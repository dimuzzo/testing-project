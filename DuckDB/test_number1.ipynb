{
 "cells": [
  {
   "metadata": {},
   "cell_type": "markdown",
   "source": [
    "# DuckDB Library Introduction\n",
    "\n",
    "---\n",
    "\n",
    "## Import the library and make a first example\n",
    "\n",
    "In the next code space I just import the DuckDB library and in the next code space you can find the first example on how to use DuckDB."
   ],
   "id": "ca0aaeb962b3a3a"
  },
  {
   "metadata": {
    "ExecuteTime": {
     "end_time": "2025-05-05T21:04:45.964627Z",
     "start_time": "2025-05-05T21:04:45.959358Z"
    }
   },
   "cell_type": "code",
   "source": [
    "# Importing the useful libraries\n",
    "import duckdb\n",
    "\n",
    "# Install and load the spatial extension\n",
    "duckdb.query(\"INSTALL spatial; LOAD spatial;\")"
   ],
   "id": "ceb1514d35081068",
   "outputs": [],
   "execution_count": 9
  },
  {
   "metadata": {
    "ExecuteTime": {
     "end_time": "2025-05-05T21:02:00.974042Z",
     "start_time": "2025-05-05T21:02:00.955351Z"
    }
   },
   "cell_type": "code",
   "source": [
    "# Connect to an in-memory DuckDB database\n",
    "conn = duckdb.connect(database=':memory:')\n",
    "\n",
    "# Create a simple table\n",
    "conn.execute(\"\"\"\n",
    "    CREATE TABLE people (\n",
    "        name VARCHAR,\n",
    "        age INTEGER\n",
    "    )\n",
    "\"\"\")\n",
    "\n",
    "# Insert some data\n",
    "conn.execute(\"\"\"\n",
    "    INSERT INTO people (name, age) VALUES\n",
    "    ('Alice', 30),\n",
    "    ('Bob', 25),\n",
    "    ('Charlie', 35)\n",
    "\"\"\")\n",
    "\n",
    "# Query the table\n",
    "result = conn.execute(\"SELECT * FROM people\").fetchall()\n",
    "print(result)"
   ],
   "id": "16921e9db5867d4f",
   "outputs": [
    {
     "name": "stdout",
     "output_type": "stream",
     "text": [
      "[('Alice', 30), ('Bob', 25), ('Charlie', 35)]\n"
     ]
    }
   ],
   "execution_count": 2
  },
  {
   "metadata": {
    "ExecuteTime": {
     "end_time": "2025-05-05T21:02:29.631770Z",
     "start_time": "2025-05-05T21:02:29.594289Z"
    }
   },
   "cell_type": "code",
   "source": [
    "# Create a persistent database file\n",
    "conn = duckdb.connect(database='data/example/my_database.duckdb')\n",
    "\n",
    "# Create a table\n",
    "conn.execute(\"CREATE TABLE products (id INTEGER, name VARCHAR)\")\n",
    "\n",
    "# Insert data\n",
    "conn.execute(\"INSERT INTO products VALUES (1, 'Laptop'), (2, 'Phone')\")\n",
    "\n",
    "# Query and print\n",
    "print(conn.execute(\"SELECT * FROM products\").fetchall())\n",
    "\n",
    "# Close the connection\n",
    "conn.close()"
   ],
   "id": "1a840ded6189401c",
   "outputs": [
    {
     "name": "stdout",
     "output_type": "stream",
     "text": [
      "[(1, 'Laptop'), (2, 'Phone')]\n"
     ]
    }
   ],
   "execution_count": 5
  },
  {
   "metadata": {},
   "cell_type": "code",
   "outputs": [],
   "execution_count": null,
   "source": [
    "# Connect to an in-memory database\n",
    "conn = duckdb.connect(database=':memory:')\n",
    "\n",
    "# Read a CSV into a DuckDB table\n",
    "conn.execute(\"\"\"\n",
    "    CREATE TABLE my_csv AS\n",
    "    SELECT * FROM read_csv_auto('path_to_your_file.csv')\n",
    "\"\"\") # THE FILE DOESN'T EXIST...\n",
    "\n",
    "# Query the table\n",
    "print(conn.execute(\"SELECT * FROM my_csv LIMIT 5\").fetchall())"
   ],
   "id": "65f286872fc70eba"
  },
  {
   "metadata": {
    "ExecuteTime": {
     "end_time": "2025-05-05T20:53:45.061937700Z",
     "start_time": "2025-04-26T16:56:50.741353Z"
    }
   },
   "cell_type": "code",
   "source": [
    "conn = duckdb.connect(database=':memory:')\n",
    "\n",
    "# Create table with some numbers\n",
    "conn.execute(\"\"\"\n",
    "    CREATE TABLE numbers AS\n",
    "    SELECT range AS num\n",
    "    FROM range(1, 10)\n",
    "\"\"\")\n",
    "\n",
    "# Query: filter even numbers\n",
    "even_numbers = conn.execute(\"SELECT num FROM numbers WHERE num % 2 = 0\").fetchall()\n",
    "print(\"Even numbers:\", even_numbers)"
   ],
   "id": "829c6eb5e2ade342",
   "outputs": [
    {
     "name": "stdout",
     "output_type": "stream",
     "text": [
      "Even numbers: [(2,), (4,), (6,), (8,)]\n"
     ]
    }
   ],
   "execution_count": 6
  },
  {
   "metadata": {},
   "cell_type": "code",
   "outputs": [],
   "execution_count": null,
   "source": [
    "conn = duckdb.connect(database=':memory:')\n",
    "\n",
    "# Read parquet file directly\n",
    "parquet_data = conn.execute(\"\"\"\n",
    "    SELECT * FROM read_parquet('path_to_your_file.parquet')\n",
    "\"\"\").fetchall() # THE FILE DOESN'T EXIST...\n",
    "\n",
    "print(parquet_data)"
   ],
   "id": "dbe7c31297caaa07"
  },
  {
   "metadata": {},
   "cell_type": "markdown",
   "source": [
    "---\n",
    "\n",
    "# Let's use DuckDB properly for the Spatial Extension\n",
    "\n",
    "There you can see an introduction to learn how to use DuckDB with Spatial."
   ],
   "id": "85ba48439eea7ea8"
  },
  {
   "metadata": {
    "ExecuteTime": {
     "end_time": "2025-05-05T21:17:42.343276Z",
     "start_time": "2025-05-05T21:17:42.215561Z"
    }
   },
   "cell_type": "code",
   "source": [
    "# REQUIRED LIBRARIES\n",
    "import duckdb\n",
    "import geopandas as gpd\n",
    "import pandas as pd\n",
    "import folium\n",
    "from shapely.geometry import Point\n",
    "from shapely import wkt\n",
    "import os\n",
    "\n",
    "# Read GeoJSON\n",
    "cities = gpd.read_file(\"data/cities.geojson\")\n",
    "cities['geometry_wkt'] = cities['geometry'].apply(lambda geom: geom.wkt)\n",
    "\n",
    "# Read sensors CSV\n",
    "df = pd.read_csv(\"data/sensors.csv\")\n",
    "df['geometry'] = df.apply(lambda row: Point(row['lon'], row['lat']), axis=1)\n",
    "gdf_sensors = gpd.GeoDataFrame(df, geometry='geometry', crs=\"EPSG:4326\")\n",
    "gdf_sensors['geometry_wkt'] = gdf_sensors['geometry'].apply(lambda geom: geom.wkt)\n",
    "\n",
    "# Create connection\n",
    "con = duckdb.connect()\n",
    "\n",
    "# INSTALL + LOAD inside this connection\n",
    "con.execute(\"INSTALL spatial;\")\n",
    "con.execute(\"LOAD spatial;\")\n",
    "\n",
    "# Register DataFrames with WKT geometries\n",
    "con.register(\"cities\", cities[['name', 'geometry_wkt']])\n",
    "con.register(\"sensors\", gdf_sensors[['id', 'value', 'geometry_wkt']])\n",
    "\n",
    "# Run query using ST_GeomFromText\n",
    "result = con.execute(\"\"\"\n",
    "    SELECT s.id, s.value, c.name AS city\n",
    "    FROM sensors s, cities c\n",
    "    WHERE ST_Within(ST_GeomFromText(s.geometry_wkt), ST_GeomFromText(c.geometry_wkt))\n",
    "\"\"\").fetchdf()\n",
    "\n",
    "print(result)"
   ],
   "id": "4612bfea20cef6d2",
   "outputs": [
    {
     "name": "stdout",
     "output_type": "stream",
     "text": [
      "   id  value    city\n",
      "0   1   34.2  Milano\n",
      "1   3   40.5  Milano\n"
     ]
    }
   ],
   "execution_count": 16
  },
  {
   "metadata": {},
   "cell_type": "markdown",
   "source": "## Starting point: examples and mapping usage of DuckDB + Spatial",
   "id": "662e8fc309c80f35"
  },
  {
   "metadata": {
    "ExecuteTime": {
     "end_time": "2025-05-05T21:17:44.633177Z",
     "start_time": "2025-05-05T21:17:44.508712Z"
    }
   },
   "cell_type": "code",
   "source": [
    "# Load GeoJSON of cities\n",
    "cities = gpd.read_file(\"data/cities.geojson\")\n",
    "cities['geometry_wkt'] = cities['geometry'].apply(lambda g: g.wkt)\n",
    "\n",
    "# Load sensors with lat/lon CSV and convert to GeoDataFrame\n",
    "df = pd.read_csv(\"data/sensors.csv\")  # must contain 'id', 'value', 'lat', 'lon'\n",
    "df['geometry'] = df.apply(lambda row: Point(row['lon'], row['lat']), axis=1)\n",
    "gdf_sensors = gpd.GeoDataFrame(df, geometry='geometry', crs=\"EPSG:4326\")\n",
    "gdf_sensors['geometry_wkt'] = gdf_sensors['geometry'].apply(lambda g: g.wkt)\n",
    "\n",
    "con = duckdb.connect()\n",
    "con.execute(\"INSTALL spatial;\")\n",
    "con.execute(\"LOAD spatial;\")\n",
    "\n",
    "con.register(\"cities\", cities[['name', 'geometry_wkt']])\n",
    "con.register(\"sensors\", gdf_sensors[['id', 'value', 'geometry_wkt']])\n",
    "\n",
    "# Create an output directory\n",
    "os.makedirs(\"data/output_maps\", exist_ok=True)\n",
    "\n",
    "# Mapping function\n",
    "def plot_sensors_and_cities(sensors_df, cities_df, filename=\"map.html\"):\n",
    "    m = folium.Map(location=[45.46, 9.19], zoom_start=10)\n",
    "    for _, row in cities_df.iterrows():\n",
    "        geom = wkt.loads(row['geometry_wkt'])\n",
    "        folium.GeoJson(geom, name=row['name'], tooltip=row['name']).add_to(m)\n",
    "    for _, row in sensors_df.iterrows():\n",
    "        geom = wkt.loads(row['geometry_wkt'])\n",
    "        folium.CircleMarker(\n",
    "            location=[geom.y, geom.x],\n",
    "            radius=5,\n",
    "            popup=f\"Sensor ID: {row['id']}, Value: {row['value']}\",\n",
    "            color='red', fill=True\n",
    "        ).add_to(m)\n",
    "    m.save(f\"data/output_maps/{filename}\")\n",
    "    print(f\"Map saved to data/output_maps/{filename}\")"
   ],
   "id": "cc7507b2d7baf2ff",
   "outputs": [],
   "execution_count": 17
  },
  {
   "metadata": {},
   "cell_type": "markdown",
   "source": [
    "### Example 1: Sensors inside cities\n",
    "\n",
    "This query selects all sensors that are geographically located inside city polygons"
   ],
   "id": "f1d60c590cb4f24c"
  },
  {
   "metadata": {
    "ExecuteTime": {
     "end_time": "2025-05-05T21:17:47.389262Z",
     "start_time": "2025-05-05T21:17:47.366851Z"
    }
   },
   "cell_type": "code",
   "source": [
    "# Query: Find sensors inside cities using ST_Within\n",
    "result = con.execute(\"\"\"\n",
    "    SELECT s.id, s.value, s.geometry_wkt, c.name AS city, c.geometry_wkt AS city_geometry\n",
    "    FROM sensors s, cities c\n",
    "    WHERE ST_Within(ST_GeomFromText(s.geometry_wkt), ST_GeomFromText(c.geometry_wkt))\n",
    "\"\"\").fetchdf()\n",
    "\n",
    "# Show result and generate map\n",
    "display(result)\n",
    "cities_map_df = result[['city', 'city_geometry']].drop_duplicates().rename(columns={'city': 'name', 'city_geometry': 'geometry_wkt'})\n",
    "plot_sensors_and_cities(result[['id', 'value', 'geometry_wkt']], cities_map_df, filename=\"sensors_in_cities.html\")"
   ],
   "id": "246823a50a626343",
   "outputs": [
    {
     "data": {
      "text/plain": [
       "   id  value        geometry_wkt    city  \\\n",
       "0   1   34.2    POINT (9.1 45.1)  Milano   \n",
       "1   3   40.5  POINT (9.05 45.15)  Milano   \n",
       "\n",
       "                                      city_geometry  \n",
       "0  POLYGON ((9 45, 9.2 45, 9.2 45.2, 9 45.2, 9 45))  \n",
       "1  POLYGON ((9 45, 9.2 45, 9.2 45.2, 9 45.2, 9 45))  "
      ],
      "text/html": [
       "<div>\n",
       "<style scoped>\n",
       "    .dataframe tbody tr th:only-of-type {\n",
       "        vertical-align: middle;\n",
       "    }\n",
       "\n",
       "    .dataframe tbody tr th {\n",
       "        vertical-align: top;\n",
       "    }\n",
       "\n",
       "    .dataframe thead th {\n",
       "        text-align: right;\n",
       "    }\n",
       "</style>\n",
       "<table border=\"1\" class=\"dataframe\">\n",
       "  <thead>\n",
       "    <tr style=\"text-align: right;\">\n",
       "      <th></th>\n",
       "      <th>id</th>\n",
       "      <th>value</th>\n",
       "      <th>geometry_wkt</th>\n",
       "      <th>city</th>\n",
       "      <th>city_geometry</th>\n",
       "    </tr>\n",
       "  </thead>\n",
       "  <tbody>\n",
       "    <tr>\n",
       "      <th>0</th>\n",
       "      <td>1</td>\n",
       "      <td>34.2</td>\n",
       "      <td>POINT (9.1 45.1)</td>\n",
       "      <td>Milano</td>\n",
       "      <td>POLYGON ((9 45, 9.2 45, 9.2 45.2, 9 45.2, 9 45))</td>\n",
       "    </tr>\n",
       "    <tr>\n",
       "      <th>1</th>\n",
       "      <td>3</td>\n",
       "      <td>40.5</td>\n",
       "      <td>POINT (9.05 45.15)</td>\n",
       "      <td>Milano</td>\n",
       "      <td>POLYGON ((9 45, 9.2 45, 9.2 45.2, 9 45.2, 9 45))</td>\n",
       "    </tr>\n",
       "  </tbody>\n",
       "</table>\n",
       "</div>"
      ]
     },
     "metadata": {},
     "output_type": "display_data"
    },
    {
     "name": "stdout",
     "output_type": "stream",
     "text": [
      "Map saved to data/output_maps/sensors_in_cities.html\n"
     ]
    }
   ],
   "execution_count": 18
  },
  {
   "metadata": {},
   "cell_type": "markdown",
   "source": [
    "### Example 2: Sensors within 1km of Milan center\n",
    "\n",
    "Uses ST_Distance() to select all sensors near a fixed point."
   ],
   "id": "9f7cc784dc9fac20"
  },
  {
   "metadata": {
    "ExecuteTime": {
     "end_time": "2025-05-05T21:27:54.200008Z",
     "start_time": "2025-05-05T21:27:54.179067Z"
    }
   },
   "cell_type": "code",
   "source": [
    "milano_center = \"POINT(9.19 45.46)\"  # EPSG:4326\n",
    "\n",
    "# Query: Find sensors within 1 km of the city's center\n",
    "result = con.execute(\"\"\"\n",
    "    SELECT id, value, geometry_wkt\n",
    "    FROM sensors\n",
    "    WHERE ST_Distance(ST_GeomFromText(geometry_wkt), ST_GeomFromText(?)) <= 1000\n",
    "\"\"\", [milano_center]).fetchdf()\n",
    "\n",
    "# Show result and generate map\n",
    "display(result)\n",
    "plot_sensors_and_cities(result, cities.iloc[[0]], filename=\"sensors_within_1km_milan.html\")"
   ],
   "id": "1d4b704d07e809e",
   "outputs": [
    {
     "data": {
      "text/plain": [
       "   id  value        geometry_wkt\n",
       "0   1   34.2    POINT (9.1 45.1)\n",
       "1   2   22.8    POINT (9.5 45.5)\n",
       "2   3   40.5  POINT (9.05 45.15)"
      ],
      "text/html": [
       "<div>\n",
       "<style scoped>\n",
       "    .dataframe tbody tr th:only-of-type {\n",
       "        vertical-align: middle;\n",
       "    }\n",
       "\n",
       "    .dataframe tbody tr th {\n",
       "        vertical-align: top;\n",
       "    }\n",
       "\n",
       "    .dataframe thead th {\n",
       "        text-align: right;\n",
       "    }\n",
       "</style>\n",
       "<table border=\"1\" class=\"dataframe\">\n",
       "  <thead>\n",
       "    <tr style=\"text-align: right;\">\n",
       "      <th></th>\n",
       "      <th>id</th>\n",
       "      <th>value</th>\n",
       "      <th>geometry_wkt</th>\n",
       "    </tr>\n",
       "  </thead>\n",
       "  <tbody>\n",
       "    <tr>\n",
       "      <th>0</th>\n",
       "      <td>1</td>\n",
       "      <td>34.2</td>\n",
       "      <td>POINT (9.1 45.1)</td>\n",
       "    </tr>\n",
       "    <tr>\n",
       "      <th>1</th>\n",
       "      <td>2</td>\n",
       "      <td>22.8</td>\n",
       "      <td>POINT (9.5 45.5)</td>\n",
       "    </tr>\n",
       "    <tr>\n",
       "      <th>2</th>\n",
       "      <td>3</td>\n",
       "      <td>40.5</td>\n",
       "      <td>POINT (9.05 45.15)</td>\n",
       "    </tr>\n",
       "  </tbody>\n",
       "</table>\n",
       "</div>"
      ]
     },
     "metadata": {},
     "output_type": "display_data"
    },
    {
     "name": "stdout",
     "output_type": "stream",
     "text": [
      "Map saved to data/output_maps/sensors_within_1km_milan.html\n"
     ]
    }
   ],
   "execution_count": 24
  },
  {
   "metadata": {},
   "cell_type": "markdown",
   "source": [
    "### Example 3: Distance to city centroid\n",
    "\n",
    "Calculates the distance from each sensor to the centroid of the first city (e.g. Milan)."
   ],
   "id": "d53b3300c3ec7ee6"
  },
  {
   "metadata": {
    "ExecuteTime": {
     "end_time": "2025-05-05T21:30:20.158655Z",
     "start_time": "2025-05-05T21:30:20.150359Z"
    }
   },
   "cell_type": "code",
   "source": [
    "# Get the WKT geometry of the first city\n",
    "city_geom = cities['geometry_wkt'].iloc[0]\n",
    "\n",
    "# Compute distance from each sensor to the city's centroid\n",
    "result = con.execute(\"\"\"\n",
    "    SELECT id, value,\n",
    "           ST_Distance(ST_GeomFromText(geometry_wkt), ST_Centroid(ST_GeomFromText(?))) AS distance_to_center\n",
    "    FROM sensors\n",
    "\"\"\", [city_geom]).fetchdf()\n",
    "\n",
    "# Show the result as a table\n",
    "display(result)"
   ],
   "id": "6d8220d59ff0fdd8",
   "outputs": [
    {
     "data": {
      "text/plain": [
       "   id  value  distance_to_center\n",
       "0   1   34.2            0.000000\n",
       "1   2   22.8            0.565685\n",
       "2   3   40.5            0.070711"
      ],
      "text/html": [
       "<div>\n",
       "<style scoped>\n",
       "    .dataframe tbody tr th:only-of-type {\n",
       "        vertical-align: middle;\n",
       "    }\n",
       "\n",
       "    .dataframe tbody tr th {\n",
       "        vertical-align: top;\n",
       "    }\n",
       "\n",
       "    .dataframe thead th {\n",
       "        text-align: right;\n",
       "    }\n",
       "</style>\n",
       "<table border=\"1\" class=\"dataframe\">\n",
       "  <thead>\n",
       "    <tr style=\"text-align: right;\">\n",
       "      <th></th>\n",
       "      <th>id</th>\n",
       "      <th>value</th>\n",
       "      <th>distance_to_center</th>\n",
       "    </tr>\n",
       "  </thead>\n",
       "  <tbody>\n",
       "    <tr>\n",
       "      <th>0</th>\n",
       "      <td>1</td>\n",
       "      <td>34.2</td>\n",
       "      <td>0.000000</td>\n",
       "    </tr>\n",
       "    <tr>\n",
       "      <th>1</th>\n",
       "      <td>2</td>\n",
       "      <td>22.8</td>\n",
       "      <td>0.565685</td>\n",
       "    </tr>\n",
       "    <tr>\n",
       "      <th>2</th>\n",
       "      <td>3</td>\n",
       "      <td>40.5</td>\n",
       "      <td>0.070711</td>\n",
       "    </tr>\n",
       "  </tbody>\n",
       "</table>\n",
       "</div>"
      ]
     },
     "metadata": {},
     "output_type": "display_data"
    }
   ],
   "execution_count": 25
  },
  {
   "metadata": {},
   "cell_type": "markdown",
   "source": [
    "### Example 4: Sensors outside any city\n",
    "\n",
    "Finds sensors that are not contained in any city using a LEFT JOIN + IS NULL."
   ],
   "id": "b9818a709cbcf05e"
  },
  {
   "metadata": {
    "ExecuteTime": {
     "end_time": "2025-05-05T21:30:38.789047Z",
     "start_time": "2025-05-05T21:30:38.771190Z"
    }
   },
   "cell_type": "code",
   "source": [
    "# Query sensors that are NOT inside any city polygon (left join with null)\n",
    "result = con.execute(\"\"\"\n",
    "    SELECT s.id, s.value, s.geometry_wkt\n",
    "    FROM sensors s\n",
    "    LEFT JOIN cities c\n",
    "    ON ST_Within(ST_GeomFromText(s.geometry_wkt), ST_GeomFromText(c.geometry_wkt))\n",
    "    WHERE c.name IS NULL\n",
    "\"\"\").fetchdf()\n",
    "\n",
    "# Show the result\n",
    "display(result)\n",
    "\n",
    "# Visualize sensors outside cities on map\n",
    "plot_sensors_and_cities(result, cities, filename=\"sensors_outside_cities.html\")"
   ],
   "id": "8a76e3494b14f921",
   "outputs": [
    {
     "data": {
      "text/plain": [
       "   id  value      geometry_wkt\n",
       "0   2   22.8  POINT (9.5 45.5)"
      ],
      "text/html": [
       "<div>\n",
       "<style scoped>\n",
       "    .dataframe tbody tr th:only-of-type {\n",
       "        vertical-align: middle;\n",
       "    }\n",
       "\n",
       "    .dataframe tbody tr th {\n",
       "        vertical-align: top;\n",
       "    }\n",
       "\n",
       "    .dataframe thead th {\n",
       "        text-align: right;\n",
       "    }\n",
       "</style>\n",
       "<table border=\"1\" class=\"dataframe\">\n",
       "  <thead>\n",
       "    <tr style=\"text-align: right;\">\n",
       "      <th></th>\n",
       "      <th>id</th>\n",
       "      <th>value</th>\n",
       "      <th>geometry_wkt</th>\n",
       "    </tr>\n",
       "  </thead>\n",
       "  <tbody>\n",
       "    <tr>\n",
       "      <th>0</th>\n",
       "      <td>2</td>\n",
       "      <td>22.8</td>\n",
       "      <td>POINT (9.5 45.5)</td>\n",
       "    </tr>\n",
       "  </tbody>\n",
       "</table>\n",
       "</div>"
      ]
     },
     "metadata": {},
     "output_type": "display_data"
    },
    {
     "name": "stdout",
     "output_type": "stream",
     "text": [
      "Map saved to data/output_maps/sensors_outside_cities.html\n"
     ]
    }
   ],
   "execution_count": 26
  },
  {
   "metadata": {},
   "cell_type": "markdown",
   "source": [
    "### Example 5: Sensor buffers intersecting cities\n",
    "\n",
    "Creates 5km circular buffers around sensors and checks which ones intersect city polygons."
   ],
   "id": "e5bb88ef25d48b98"
  },
  {
   "metadata": {
    "ExecuteTime": {
     "end_time": "2025-05-05T21:30:54.264409Z",
     "start_time": "2025-05-05T21:30:54.240704Z"
    }
   },
   "cell_type": "code",
   "source": [
    "# Query sensors whose 5 km buffer intersects any city polygon\n",
    "result = con.execute(\"\"\"\n",
    "    SELECT s.id, s.value, s.geometry_wkt, c.name AS city, c.geometry_wkt AS city_geometry\n",
    "    FROM sensors s, cities c\n",
    "    WHERE ST_Intersects(\n",
    "        ST_Buffer(ST_GeomFromText(s.geometry_wkt), 5000),\n",
    "        ST_GeomFromText(c.geometry_wkt)\n",
    "    )\n",
    "\"\"\").fetchdf()\n",
    "\n",
    "# Show the result\n",
    "display(result)\n",
    "\n",
    "# Prepare city geometries for map (remove duplicates)\n",
    "buffer_map_df = result[['city', 'city_geometry']].drop_duplicates().rename(columns={\n",
    "    'city': 'name', 'city_geometry': 'geometry_wkt'\n",
    "})\n",
    "\n",
    "# Visualize buffers intersecting cities\n",
    "plot_sensors_and_cities(result[['id', 'value', 'geometry_wkt']], buffer_map_df,\n",
    "                        filename=\"sensor_buffers_intersecting_cities.html\")"
   ],
   "id": "2bf5a921389cbfaa",
   "outputs": [
    {
     "data": {
      "text/plain": [
       "   id  value        geometry_wkt    city  \\\n",
       "0   1   34.2    POINT (9.1 45.1)  Milano   \n",
       "1   2   22.8    POINT (9.5 45.5)  Milano   \n",
       "2   3   40.5  POINT (9.05 45.15)  Milano   \n",
       "\n",
       "                                      city_geometry  \n",
       "0  POLYGON ((9 45, 9.2 45, 9.2 45.2, 9 45.2, 9 45))  \n",
       "1  POLYGON ((9 45, 9.2 45, 9.2 45.2, 9 45.2, 9 45))  \n",
       "2  POLYGON ((9 45, 9.2 45, 9.2 45.2, 9 45.2, 9 45))  "
      ],
      "text/html": [
       "<div>\n",
       "<style scoped>\n",
       "    .dataframe tbody tr th:only-of-type {\n",
       "        vertical-align: middle;\n",
       "    }\n",
       "\n",
       "    .dataframe tbody tr th {\n",
       "        vertical-align: top;\n",
       "    }\n",
       "\n",
       "    .dataframe thead th {\n",
       "        text-align: right;\n",
       "    }\n",
       "</style>\n",
       "<table border=\"1\" class=\"dataframe\">\n",
       "  <thead>\n",
       "    <tr style=\"text-align: right;\">\n",
       "      <th></th>\n",
       "      <th>id</th>\n",
       "      <th>value</th>\n",
       "      <th>geometry_wkt</th>\n",
       "      <th>city</th>\n",
       "      <th>city_geometry</th>\n",
       "    </tr>\n",
       "  </thead>\n",
       "  <tbody>\n",
       "    <tr>\n",
       "      <th>0</th>\n",
       "      <td>1</td>\n",
       "      <td>34.2</td>\n",
       "      <td>POINT (9.1 45.1)</td>\n",
       "      <td>Milano</td>\n",
       "      <td>POLYGON ((9 45, 9.2 45, 9.2 45.2, 9 45.2, 9 45))</td>\n",
       "    </tr>\n",
       "    <tr>\n",
       "      <th>1</th>\n",
       "      <td>2</td>\n",
       "      <td>22.8</td>\n",
       "      <td>POINT (9.5 45.5)</td>\n",
       "      <td>Milano</td>\n",
       "      <td>POLYGON ((9 45, 9.2 45, 9.2 45.2, 9 45.2, 9 45))</td>\n",
       "    </tr>\n",
       "    <tr>\n",
       "      <th>2</th>\n",
       "      <td>3</td>\n",
       "      <td>40.5</td>\n",
       "      <td>POINT (9.05 45.15)</td>\n",
       "      <td>Milano</td>\n",
       "      <td>POLYGON ((9 45, 9.2 45, 9.2 45.2, 9 45.2, 9 45))</td>\n",
       "    </tr>\n",
       "  </tbody>\n",
       "</table>\n",
       "</div>"
      ]
     },
     "metadata": {},
     "output_type": "display_data"
    },
    {
     "name": "stdout",
     "output_type": "stream",
     "text": [
      "Map saved to data/output_maps/sensor_buffers_intersecting_cities.html\n"
     ]
    }
   ],
   "execution_count": 27
  }
 ],
 "metadata": {
  "kernelspec": {
   "display_name": "Python 3",
   "language": "python",
   "name": "python3"
  },
  "language_info": {
   "codemirror_mode": {
    "name": "ipython",
    "version": 2
   },
   "file_extension": ".py",
   "mimetype": "text/x-python",
   "name": "python",
   "nbconvert_exporter": "python",
   "pygments_lexer": "ipython2",
   "version": "2.7.6"
  }
 },
 "nbformat": 4,
 "nbformat_minor": 5
}
