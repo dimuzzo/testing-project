{
 "cells": [
  {
   "metadata": {},
   "cell_type": "markdown",
   "source": [
    "# DuckDB Library Introduction\n",
    "\n",
    "---\n",
    "\n",
    "## Import the library and make a first example\n",
    "\n",
    "In the next code space I just import the DuckDB library and in the next code space you can find the first example on how to use DuckDB."
   ],
   "id": "ca0aaeb962b3a3a"
  },
  {
   "metadata": {
    "ExecuteTime": {
     "end_time": "2025-04-26T16:54:19.750845Z",
     "start_time": "2025-04-26T16:54:19.730295Z"
    }
   },
   "cell_type": "code",
   "source": [
    "# Importing the useful libraries\n",
    "\n",
    "import duckdb"
   ],
   "id": "ceb1514d35081068",
   "outputs": [],
   "execution_count": 2
  },
  {
   "metadata": {
    "ExecuteTime": {
     "end_time": "2025-04-26T16:54:21.214546Z",
     "start_time": "2025-04-26T16:54:21.194290Z"
    }
   },
   "cell_type": "code",
   "source": [
    "# Connect to an in-memory DuckDB database\n",
    "conn = duckdb.connect(database=':memory:')\n",
    "\n",
    "# Create a simple table\n",
    "conn.execute(\"\"\"\n",
    "    CREATE TABLE people (\n",
    "        name VARCHAR,\n",
    "        age INTEGER\n",
    "    )\n",
    "\"\"\")\n",
    "\n",
    "# Insert some data\n",
    "conn.execute(\"\"\"\n",
    "    INSERT INTO people (name, age) VALUES\n",
    "    ('Alice', 30),\n",
    "    ('Bob', 25),\n",
    "    ('Charlie', 35)\n",
    "\"\"\")\n",
    "\n",
    "# Query the table\n",
    "result = conn.execute(\"SELECT * FROM people\").fetchall()\n",
    "print(result)"
   ],
   "id": "16921e9db5867d4f",
   "outputs": [
    {
     "name": "stdout",
     "output_type": "stream",
     "text": [
      "[('Alice', 30), ('Bob', 25), ('Charlie', 35)]\n"
     ]
    }
   ],
   "execution_count": 3
  },
  {
   "metadata": {
    "ExecuteTime": {
     "end_time": "2025-04-26T16:55:16.980954Z",
     "start_time": "2025-04-26T16:55:16.950592Z"
    }
   },
   "cell_type": "code",
   "source": [
    "# Create a persistent database file\n",
    "conn = duckdb.connect(database='my_database.duckdb')\n",
    "\n",
    "# Create a table\n",
    "conn.execute(\"CREATE TABLE products (id INTEGER, name VARCHAR)\")\n",
    "\n",
    "# Insert data\n",
    "conn.execute(\"INSERT INTO products VALUES (1, 'Laptop'), (2, 'Phone')\")\n",
    "\n",
    "# Query and print\n",
    "print(conn.execute(\"SELECT * FROM products\").fetchall())\n",
    "\n",
    "# Close the connection\n",
    "conn.close()"
   ],
   "id": "1a840ded6189401c",
   "outputs": [
    {
     "name": "stdout",
     "output_type": "stream",
     "text": [
      "[(1, 'Laptop'), (2, 'Phone')]\n"
     ]
    }
   ],
   "execution_count": 4
  },
  {
   "metadata": {},
   "cell_type": "code",
   "outputs": [],
   "execution_count": null,
   "source": [
    "# Connect to an in-memory database\n",
    "conn = duckdb.connect(database=':memory:')\n",
    "\n",
    "# Read a CSV into a DuckDB table\n",
    "conn.execute(\"\"\"\n",
    "    CREATE TABLE my_csv AS\n",
    "    SELECT * FROM read_csv_auto('path_to_your_file.csv')\n",
    "\"\"\") # THE FILE DOESN'T EXIST...\n",
    "\n",
    "# Query the table\n",
    "print(conn.execute(\"SELECT * FROM my_csv LIMIT 5\").fetchall())"
   ],
   "id": "65f286872fc70eba"
  },
  {
   "metadata": {
    "ExecuteTime": {
     "end_time": "2025-04-26T16:56:50.759668Z",
     "start_time": "2025-04-26T16:56:50.741353Z"
    }
   },
   "cell_type": "code",
   "source": [
    "conn = duckdb.connect(database=':memory:')\n",
    "\n",
    "# Create table with some numbers\n",
    "conn.execute(\"\"\"\n",
    "    CREATE TABLE numbers AS\n",
    "    SELECT range AS num\n",
    "    FROM range(1, 10)\n",
    "\"\"\")\n",
    "\n",
    "# Query: filter even numbers\n",
    "even_numbers = conn.execute(\"SELECT num FROM numbers WHERE num % 2 = 0\").fetchall()\n",
    "print(\"Even numbers:\", even_numbers)"
   ],
   "id": "829c6eb5e2ade342",
   "outputs": [
    {
     "name": "stdout",
     "output_type": "stream",
     "text": [
      "Even numbers: [(2,), (4,), (6,), (8,)]\n"
     ]
    }
   ],
   "execution_count": 6
  },
  {
   "metadata": {},
   "cell_type": "code",
   "outputs": [],
   "execution_count": null,
   "source": [
    "conn = duckdb.connect(database=':memory:')\n",
    "\n",
    "# Read parquet file directly\n",
    "parquet_data = conn.execute(\"\"\"\n",
    "    SELECT * FROM read_parquet('path_to_your_file.parquet')\n",
    "\"\"\").fetchall() # THE FILE DOESN'T EXIST...\n",
    "\n",
    "print(parquet_data)"
   ],
   "id": "dbe7c31297caaa07"
  }
 ],
 "metadata": {
  "kernelspec": {
   "display_name": "Python 3",
   "language": "python",
   "name": "python3"
  },
  "language_info": {
   "codemirror_mode": {
    "name": "ipython",
    "version": 2
   },
   "file_extension": ".py",
   "mimetype": "text/x-python",
   "name": "python",
   "nbconvert_exporter": "python",
   "pygments_lexer": "ipython2",
   "version": "2.7.6"
  }
 },
 "nbformat": 4,
 "nbformat_minor": 5
}
