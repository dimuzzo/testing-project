{
 "cells": [
  {
   "metadata": {},
   "cell_type": "markdown",
   "source": "# Testing of a new library for reading OSM PBF files using DuckDB: QuackOSM",
   "id": "2efbcdd17f1c6a58"
  },
  {
   "metadata": {},
   "cell_type": "markdown",
   "source": [
    "---\n",
    "\n",
    "## Import the main library and other supporting ones"
   ],
   "id": "1b581a1067388ee5"
  },
  {
   "cell_type": "code",
   "id": "initial_id",
   "metadata": {
    "collapsed": true,
    "ExecuteTime": {
     "end_time": "2025-06-06T21:47:08.107131Z",
     "start_time": "2025-06-06T21:47:08.102596Z"
    }
   },
   "source": [
    "import quackosm as qosm\n",
    "import pandas as pd\n",
    "import duckdb"
   ],
   "outputs": [],
   "execution_count": 10
  },
  {
   "metadata": {},
   "cell_type": "markdown",
   "source": [
    "---\n",
    "\n",
    "## Let's try some first examples"
   ],
   "id": "7becbc6b2ad1e7e8"
  },
  {
   "metadata": {},
   "cell_type": "markdown",
   "source": "### Load data as GeoDataFrame",
   "id": "bee4db5de82fa0c4"
  },
  {
   "metadata": {
    "ExecuteTime": {
     "end_time": "2025-06-06T21:29:20.746536Z",
     "start_time": "2025-06-06T21:29:15.026610Z"
    }
   },
   "cell_type": "code",
   "source": [
    "# Loading Berlin's datas found on \"https://download.geofabrik.de/\"\n",
    "qosm.convert_pbf_to_geodataframe('data/berlin-latest.osm.pbf')"
   ],
   "id": "da0de8af4ef02985",
   "outputs": [
    {
     "data": {
      "text/plain": [
       "\n"
      ],
      "text/html": [
       "<pre style=\"white-space:pre;overflow-x:auto;line-height:normal;font-family:Menlo,'DejaVu Sans Mono',consolas,'Courier New',monospace\">\n",
       "</pre>\n"
      ]
     },
     "metadata": {},
     "output_type": "display_data"
    },
    {
     "data": {
      "text/plain": [
       "                                                              tags  \\\n",
       "feature_id                                                           \n",
       "node/1722876789  {'river:waterway_distance': '26', 'seamark:dis...   \n",
       "node/617225609   {'maxheight': '6.27', 'maxheight_referenceleve...   \n",
       "node/2727015653                                {'barrier': 'gate'}   \n",
       "node/1456258887  {'crossing:barrier': 'no', 'railway': 'level_c...   \n",
       "node/617362180   {'name': 'S Babelsberg/Wattstraße', 'public_tr...   \n",
       "...                                                            ...   \n",
       "way/312338059      {'leaf_type': 'broadleaved', 'natural': 'wood'}   \n",
       "way/388929487                                  {'natural': 'wood'}   \n",
       "way/312338064                                  {'natural': 'wood'}   \n",
       "way/312338063      {'leaf_type': 'broadleaved', 'natural': 'wood'}   \n",
       "way/312338062      {'leaf_type': 'broadleaved', 'natural': 'wood'}   \n",
       "\n",
       "                                                          geometry  \n",
       "feature_id                                                          \n",
       "node/1722876789                          POINT (13.06828 52.39526)  \n",
       "node/617225609                           POINT (13.06278 52.39295)  \n",
       "node/2727015653                          POINT (13.08744 52.38818)  \n",
       "node/1456258887                          POINT (13.09465 52.39162)  \n",
       "node/617362180                           POINT (13.09417 52.39159)  \n",
       "...                                                            ...  \n",
       "way/312338059    POLYGON ((13.74445 52.41704, 13.74439 52.41698...  \n",
       "way/388929487    POLYGON ((13.74758 52.41744, 13.74755 52.41747...  \n",
       "way/312338064    POLYGON ((13.74778 52.41737, 13.74782 52.41734...  \n",
       "way/312338063    POLYGON ((13.7463 52.4167, 13.74635 52.41668, ...  \n",
       "way/312338062    POLYGON ((13.74508 52.41678, 13.74502 52.41675...  \n",
       "\n",
       "[2295821 rows x 2 columns]"
      ],
      "text/html": [
       "<div>\n",
       "<style scoped>\n",
       "    .dataframe tbody tr th:only-of-type {\n",
       "        vertical-align: middle;\n",
       "    }\n",
       "\n",
       "    .dataframe tbody tr th {\n",
       "        vertical-align: top;\n",
       "    }\n",
       "\n",
       "    .dataframe thead th {\n",
       "        text-align: right;\n",
       "    }\n",
       "</style>\n",
       "<table border=\"1\" class=\"dataframe\">\n",
       "  <thead>\n",
       "    <tr style=\"text-align: right;\">\n",
       "      <th></th>\n",
       "      <th>tags</th>\n",
       "      <th>geometry</th>\n",
       "    </tr>\n",
       "    <tr>\n",
       "      <th>feature_id</th>\n",
       "      <th></th>\n",
       "      <th></th>\n",
       "    </tr>\n",
       "  </thead>\n",
       "  <tbody>\n",
       "    <tr>\n",
       "      <th>node/1722876789</th>\n",
       "      <td>{'river:waterway_distance': '26', 'seamark:dis...</td>\n",
       "      <td>POINT (13.06828 52.39526)</td>\n",
       "    </tr>\n",
       "    <tr>\n",
       "      <th>node/617225609</th>\n",
       "      <td>{'maxheight': '6.27', 'maxheight_referenceleve...</td>\n",
       "      <td>POINT (13.06278 52.39295)</td>\n",
       "    </tr>\n",
       "    <tr>\n",
       "      <th>node/2727015653</th>\n",
       "      <td>{'barrier': 'gate'}</td>\n",
       "      <td>POINT (13.08744 52.38818)</td>\n",
       "    </tr>\n",
       "    <tr>\n",
       "      <th>node/1456258887</th>\n",
       "      <td>{'crossing:barrier': 'no', 'railway': 'level_c...</td>\n",
       "      <td>POINT (13.09465 52.39162)</td>\n",
       "    </tr>\n",
       "    <tr>\n",
       "      <th>node/617362180</th>\n",
       "      <td>{'name': 'S Babelsberg/Wattstraße', 'public_tr...</td>\n",
       "      <td>POINT (13.09417 52.39159)</td>\n",
       "    </tr>\n",
       "    <tr>\n",
       "      <th>...</th>\n",
       "      <td>...</td>\n",
       "      <td>...</td>\n",
       "    </tr>\n",
       "    <tr>\n",
       "      <th>way/312338059</th>\n",
       "      <td>{'leaf_type': 'broadleaved', 'natural': 'wood'}</td>\n",
       "      <td>POLYGON ((13.74445 52.41704, 13.74439 52.41698...</td>\n",
       "    </tr>\n",
       "    <tr>\n",
       "      <th>way/388929487</th>\n",
       "      <td>{'natural': 'wood'}</td>\n",
       "      <td>POLYGON ((13.74758 52.41744, 13.74755 52.41747...</td>\n",
       "    </tr>\n",
       "    <tr>\n",
       "      <th>way/312338064</th>\n",
       "      <td>{'natural': 'wood'}</td>\n",
       "      <td>POLYGON ((13.74778 52.41737, 13.74782 52.41734...</td>\n",
       "    </tr>\n",
       "    <tr>\n",
       "      <th>way/312338063</th>\n",
       "      <td>{'leaf_type': 'broadleaved', 'natural': 'wood'}</td>\n",
       "      <td>POLYGON ((13.7463 52.4167, 13.74635 52.41668, ...</td>\n",
       "    </tr>\n",
       "    <tr>\n",
       "      <th>way/312338062</th>\n",
       "      <td>{'leaf_type': 'broadleaved', 'natural': 'wood'}</td>\n",
       "      <td>POLYGON ((13.74508 52.41678, 13.74502 52.41675...</td>\n",
       "    </tr>\n",
       "  </tbody>\n",
       "</table>\n",
       "<p>2295821 rows × 2 columns</p>\n",
       "</div>"
      ]
     },
     "execution_count": 3,
     "metadata": {},
     "output_type": "execute_result"
    }
   ],
   "execution_count": 3
  },
  {
   "metadata": {},
   "cell_type": "markdown",
   "source": "### Convert PBF to GeoParquet\n",
   "id": "d90ee3a9d5894c57"
  },
  {
   "metadata": {
    "ExecuteTime": {
     "end_time": "2025-06-06T21:43:00.792150Z",
     "start_time": "2025-06-06T21:43:00.637227Z"
    }
   },
   "cell_type": "code",
   "source": [
    "gpq_path = qosm.convert_pbf_to_parquet('data/berlin-latest.osm.pbf')\n",
    "\n",
    "gpq_path.as_posix()"
   ],
   "id": "e1ad70303d28cb52",
   "outputs": [
    {
     "data": {
      "text/plain": [
       "\n"
      ],
      "text/html": [
       "<pre style=\"white-space:pre;overflow-x:auto;line-height:normal;font-family:Menlo,'DejaVu Sans Mono',consolas,'Courier New',monospace\">\n",
       "</pre>\n"
      ]
     },
     "metadata": {},
     "output_type": "display_data"
    },
    {
     "data": {
      "text/plain": [
       "'files/berlin-latest_nofilter_noclip_compact_sorted.parquet'"
      ]
     },
     "execution_count": 8,
     "metadata": {},
     "output_type": "execute_result"
    }
   ],
   "execution_count": 8
  },
  {
   "metadata": {},
   "cell_type": "markdown",
   "source": "### Try to read this GeoParquet file using Pandas",
   "id": "86a7e7115ef0bc2a"
  },
  {
   "metadata": {
    "ExecuteTime": {
     "end_time": "2025-06-06T21:43:15.635481Z",
     "start_time": "2025-06-06T21:43:12.067243Z"
    }
   },
   "cell_type": "code",
   "source": [
    "df = pd.read_parquet('files/berlin-latest_nofilter_noclip_compact_sorted.parquet')\n",
    "print(df.head())"
   ],
   "id": "743b294e4edf2c56",
   "outputs": [
    {
     "name": "stdout",
     "output_type": "stream",
     "text": [
      "        feature_id                                               tags  \\\n",
      "0  node/1722876789  [(river:waterway_distance, 26), (seamark:dista...   \n",
      "1   node/617225609  [(maxheight, 6.27), (maxheight_referencelevel,...   \n",
      "2  node/2727015653                                  [(barrier, gate)]   \n",
      "3  node/1456258887  [(crossing:barrier, no), (railway, level_cross...   \n",
      "4   node/617362180  [(name, S Babelsberg/Wattstraße), (public_tran...   \n",
      "\n",
      "                                            geometry  \n",
      "0  b'\\x01\\x01\\x00\\x00\\x00\\xb80\\x1c\\x19\\xf5\"*@\\xfa...  \n",
      "1  b'\\x01\\x01\\x00\\x00\\x00\\x17\\xdb\\xff[$ *@29\\xb53...  \n",
      "2  b'\\x01\\x01\\x00\\x00\\x00\\xd1t\\x1by\\xc5,*@\\xe8\\x0...  \n",
      "3  b'\\x01\\x01\\x00\\x00\\x00\\xbd\\xea\\xb7ev0*@\\xba\\xc...  \n",
      "4  b'\\x01\\x01\\x00\\x00\\x00\\x96vj.70*@\\x14\\xba\\xa6\\...  \n"
     ]
    }
   ],
   "execution_count": 9
  },
  {
   "metadata": {},
   "cell_type": "markdown",
   "source": "### Inspect the file with DuckDB",
   "id": "e49058fe4fd35885"
  },
  {
   "metadata": {
    "ExecuteTime": {
     "end_time": "2025-06-06T21:47:19.267249Z",
     "start_time": "2025-06-06T21:47:12.809438Z"
    }
   },
   "cell_type": "code",
   "source": [
    "duckdb.load_extension('spatial')\n",
    "duckdb.read_parquet(str(gpq_path)).order(\"feature_id\")"
   ],
   "id": "6c290735a6662eb3",
   "outputs": [
    {
     "data": {
      "text/plain": [
       "FloatProgress(value=0.0, layout=Layout(width='auto'), style=ProgressStyle(bar_color='black'))"
      ],
      "application/vnd.jupyter.widget-view+json": {
       "version_major": 2,
       "version_minor": 0,
       "model_id": "f73db76cf74945d1b3cd54a1ebcc5e01"
      }
     },
     "metadata": {},
     "output_type": "display_data"
    },
    {
     "data": {
      "text/plain": [
       "┌──────────────────┬───────────────────────────────────────────────────────────────────────────────────────────────────────────┬───────────────────────────────┐\n",
       "│    feature_id    │                                                   tags                                                    │           geometry            │\n",
       "│     varchar      │                                           map(varchar, varchar)                                           │           geometry            │\n",
       "├──────────────────┼───────────────────────────────────────────────────────────────────────────────────────────────────────────┼───────────────────────────────┤\n",
       "│ node/10000041539 │ {noexit=yes}                                                                                              │ POINT (13.542045 52.569623)   │\n",
       "│ node/10000166557 │ {amenity=bench, backrest=yes, material=wood, seats=4}                                                     │ POINT (13.4299284 52.4291085) │\n",
       "│ node/10000166558 │ {leaf_cycle=deciduous, leaf_type=broadleaved, natural=tree}                                               │ POINT (13.4230894 52.4285351) │\n",
       "│ node/10000166559 │ {leaf_cycle=deciduous, leaf_type=broadleaved, natural=tree}                                               │ POINT (13.4290775 52.4280011) │\n",
       "│ node/10000166560 │ {amenity=waste_basket}                                                                                    │ POINT (13.4134549 52.4326921) │\n",
       "│ node/10000166561 │ {leaf_cycle=deciduous, leaf_type=broadleaved, natural=tree}                                               │ POINT (13.4296522 52.4279074) │\n",
       "│ node/10000166562 │ {amenity=waste_basket}                                                                                    │ POINT (13.40903 52.4323253)   │\n",
       "│ node/10000166563 │ {amenity=waste_basket}                                                                                    │ POINT (13.4286534 52.4279025) │\n",
       "│ node/10000166564 │ {leaf_cycle=deciduous, leaf_type=broadleaved, natural=tree}                                               │ POINT (13.4293123 52.4278274) │\n",
       "│ node/10000166565 │ {leaf_cycle=deciduous, leaf_type=broadleaved, natural=tree}                                               │ POINT (13.4289059 52.42798)   │\n",
       "│        ·         │           ·                                                                                               │              ·                │\n",
       "│        ·         │           ·                                                                                               │              ·                │\n",
       "│        ·         │           ·                                                                                               │              ·                │\n",
       "│ node/10062775686 │ {highway=street_lamp}                                                                                     │ POINT (13.6120539 52.5123513) │\n",
       "│ node/10062775687 │ {highway=street_lamp}                                                                                     │ POINT (13.612322 52.5126218)  │\n",
       "│ node/10062782918 │ {amenity=waste_basket}                                                                                    │ POINT (13.5958603 52.4995565) │\n",
       "│ node/10062782919 │ {amenity=waste_basket}                                                                                    │ POINT (13.596551 52.4976907)  │\n",
       "│ node/10062782920 │ {crossing=unmarked, crossing:island=no, crossing:markings=no, highway=crossing, tactile_paving=no}        │ POINT (13.599691 52.5067849)  │\n",
       "│ node/10062782921 │ {crossing=unmarked, crossing:island=no, crossing:markings=no, highway=crossing, tactile_paving=no}        │ POINT (13.5996399 52.5068704) │\n",
       "│ node/10062782922 │ {crossing=unmarked, crossing:island=no, crossing:markings=no, highway=crossing, tactile_paving=no}        │ POINT (13.599816 52.5068291)  │\n",
       "│ node/10062782923 │ {barrier=bollard}                                                                                         │ POINT (13.6009526 52.5083568) │\n",
       "│ node/10062782924 │ {barrier=bollard}                                                                                         │ POINT (13.6010592 52.5083321) │\n",
       "│ node/10062782931 │ {addr:city=Berlin, addr:country=DE, addr:housenumber=18a, addr:postcode=12623, addr:street=Hamsterstraße} │ POINT (13.6017037 52.5081048) │\n",
       "├──────────────────┴───────────────────────────────────────────────────────────────────────────────────────────────────────────┴───────────────────────────────┤\n",
       "│ ? rows (>9999 rows, 20 shown)                                                                                                                      3 columns │\n",
       "└──────────────────────────────────────────────────────────────────────────────────────────────────────────────────────────────────────────────────────────────┘"
      ]
     },
     "execution_count": 11,
     "metadata": {},
     "output_type": "execute_result"
    }
   ],
   "execution_count": 11
  }
 ],
 "metadata": {
  "kernelspec": {
   "display_name": "Python 3",
   "language": "python",
   "name": "python3"
  },
  "language_info": {
   "codemirror_mode": {
    "name": "ipython",
    "version": 2
   },
   "file_extension": ".py",
   "mimetype": "text/x-python",
   "name": "python",
   "nbconvert_exporter": "python",
   "pygments_lexer": "ipython2",
   "version": "2.7.6"
  }
 },
 "nbformat": 4,
 "nbformat_minor": 5
}
