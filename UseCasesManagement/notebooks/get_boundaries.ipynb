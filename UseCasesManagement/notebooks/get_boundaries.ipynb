{
 "cells": [
  {
   "metadata": {},
   "cell_type": "markdown",
   "source": "# Notebook to extract a file .geojson from heavy .pbf files",
   "id": "908ccb291fa6c35d"
  },
  {
   "cell_type": "code",
   "id": "initial_id",
   "metadata": {
    "collapsed": true,
    "ExecuteTime": {
     "end_time": "2025-06-25T15:28:14.210149Z",
     "start_time": "2025-06-25T15:28:04.224988Z"
    }
   },
   "source": [
    "import osmnx as ox\n",
    "import os\n",
    "\n",
    "# Define the working directory structure\n",
    "from pathlib import Path"
   ],
   "outputs": [],
   "execution_count": 1
  },
  {
   "metadata": {
    "ExecuteTime": {
     "end_time": "2025-06-25T15:28:14.986161Z",
     "start_time": "2025-06-25T15:28:14.226089Z"
    }
   },
   "cell_type": "code",
   "source": [
    "# Get the current working directory of the notebook (in this case /notebooks)\n",
    "notebook_dir = Path.cwd()\n",
    "# Go up one level to the main working directory (in this case /UseCasesManagement)\n",
    "working_root = notebook_dir.parent\n",
    "\n",
    "# Define the output directory for the boundary files\n",
    "output_dir = working_root / 'data' / 'boundaries'\n",
    "os.makedirs(output_dir, exist_ok=True) # Create the directory if it doesn't exist\n",
    "\n",
    "# Define Place and Output File\n",
    "place_name = \"Lombardia, Italy\"\n",
    "output_file = output_dir / \"lombardy.geojson\"\n",
    "\n",
    "# Fetch and Save the Boundary\n",
    "print(f\"Fetching boundary for {place_name}.\")\n",
    "\n",
    "# Get the boundary using osmnx\n",
    "boundary_gdf = ox.geocode_to_gdf(place_name)\n",
    "\n",
    "# Save the boundary to a GeoJSON file in the correct location\n",
    "boundary_gdf.to_file(output_file, driver='GeoJSON')\n",
    "\n",
    "# To get a clean relative path for printing, find the project's top-level directory\n",
    "project_root_parent = working_root.parent.parent\n",
    "\n",
    "# Calculate the path of our output file relative to that top-level directory\n",
    "relative_path = output_file.relative_to(project_root_parent)\n",
    "\n",
    "# Print the clean, relative path\n",
    "print(f\"Boundary saved successfully to: {relative_path}.\")"
   ],
   "id": "8fa35bd969871b66",
   "outputs": [
    {
     "name": "stdout",
     "output_type": "stream",
     "text": [
      "Fetching boundary for Lombardia, Italy...\n",
      "Boundary saved successfully to: testing-project\\UseCasesManagement\\data\\boundaries\\lombardy.geojson\n"
     ]
    }
   ],
   "execution_count": 2
  }
 ],
 "metadata": {
  "kernelspec": {
   "display_name": "Python 3",
   "language": "python",
   "name": "python3"
  },
  "language_info": {
   "codemirror_mode": {
    "name": "ipython",
    "version": 2
   },
   "file_extension": ".py",
   "mimetype": "text/x-python",
   "name": "python",
   "nbconvert_exporter": "python",
   "pygments_lexer": "ipython2",
   "version": "2.7.6"
  }
 },
 "nbformat": 4,
 "nbformat_minor": 5
}
