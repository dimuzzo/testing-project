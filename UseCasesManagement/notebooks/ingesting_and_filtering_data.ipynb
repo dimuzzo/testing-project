{
 "cells": [
  {
   "metadata": {},
   "cell_type": "markdown",
   "source": [
    "# Ingesting and Filtering OSM Data to GeoParquet format\n",
    "\n",
    "This notebook automates the process of extracting specific features (you can look them up in the `extraction_tasks` list) for multiple cities (Pinerolo, Milan, Rome) from a large OpenStreetMap PBF file.\n",
    "\n",
    "It uses `quackosm` for efficient filtering and saves the output as optimized `.geoparquet` files, ready for the benchmark scripts.\n",
    "\n",
    "**Required libraries:** `quackosm`, `osmnx`, `pathlib`."
   ],
   "id": "e0d798eed58ae939"
  },
  {
   "cell_type": "code",
   "id": "2da6b7316b2321f0",
   "metadata": {
    "ExecuteTime": {
     "end_time": "2025-08-11T16:09:58.950318Z",
     "start_time": "2025-08-11T16:09:56.318222Z"
    }
   },
   "source": [
    "import os\n",
    "import urllib.request\n",
    "import quackosm\n",
    "import osmnx as ox\n",
    "from pathlib import Path"
   ],
   "outputs": [],
   "execution_count": 1
  },
  {
   "metadata": {
    "ExecuteTime": {
     "end_time": "2025-08-11T17:47:05.490253Z",
     "start_time": "2025-08-11T16:09:59.118876Z"
    }
   },
   "cell_type": "code",
   "source": [
    "# Define Paths and URLs\n",
    "# NOTE: PROJECT_ROOT is defined to display relative paths in the output, protecting user privacy.\n",
    "WORKING_ROOT = Path('.').resolve().parent\n",
    "PROJECT_ROOT = WORKING_ROOT.parent\n",
    "RAW_DATA_DIR = WORKING_ROOT / 'data' / 'raw'\n",
    "PROCESSED_DATA_DIR = WORKING_ROOT / 'data' / 'processed'\n",
    "\n",
    "# The PBF file will be downloaded from this URL\n",
    "PBF_URL = \"https://download.geofabrik.de/europe/italy-latest.osm.pbf\"\n",
    "PBF_FILENAME = PBF_URL.split('/')[-1]\n",
    "PBF_FILEPATH = RAW_DATA_DIR / PBF_FILENAME\n",
    "\n",
    "# Ensure the required directories exist\n",
    "RAW_DATA_DIR.mkdir(parents=True, exist_ok=True)\n",
    "PROCESSED_DATA_DIR.mkdir(parents=True, exist_ok=True)\n",
    "\n",
    "# Download the PBF file only if it's missing\n",
    "if not PBF_FILEPATH.exists():\n",
    "    print(f\"PBF file not found. Downloading from {PBF_URL}.\")\n",
    "    urllib.request.urlretrieve(PBF_URL, PBF_FILEPATH)\n",
    "    print(f\"Download complete. File saved to: {PBF_FILEPATH.relative_to(PROJECT_ROOT)}\")\n",
    "else:\n",
    "    print(f\"PBF file already found at: {PBF_FILEPATH.relative_to(PROJECT_ROOT)}. Skipping download.\")\n",
    "\n",
    "# A list of all datasets to be generated.\n",
    "# Each dictionary defines a single extraction operation for a city and feature type.\n",
    "extraction_tasks = [\n",
    "    # Pinerolo - Use Case 3 Data\n",
    "    {'city': 'Pinerolo, Italy', 'feature_type': 'buildings', 'tags': {'building': True}},\n",
    "    {'city': 'Pinerolo, Italy', 'feature_type': 'restaurants', 'tags': {'amenity': 'restaurant'}},\n",
    "    {'city': 'Pinerolo, Italy', 'feature_type': 'bus_stops', 'tags': {'highway': 'bus_stop'}},\n",
    "\n",
    "    # Pinerolo - Use Case 4 Data\n",
    "    {'city': 'Pinerolo, Italy', 'feature_type': 'neighborhoods', 'tags': {'boundary': 'administrative', 'admin_level': '9'}},\n",
    "    {'city': 'Pinerolo, Italy', 'feature_type': 'parks', 'tags': {'leisure': 'park'}},\n",
    "    {'city': 'Pinerolo, Italy', 'feature_type': 'hospitals', 'tags': {'amenity': 'hospital'}},\n",
    "    {'city': 'Pinerolo, Italy', 'feature_type': 'residential_streets', 'tags': {'highway': 'residential'}},\n",
    "    {'city': 'Pinerolo, Italy', 'feature_type': 'trees', 'tags': {'natural': 'tree'}},\n",
    "\n",
    "    # Milano - Use Case 3 Data\n",
    "    {'city': 'Milan, Italy', 'feature_type': 'buildings', 'tags': {'building': True}},\n",
    "    {'city': 'Milan, Italy', 'feature_type': 'restaurants', 'tags': {'amenity': 'restaurant'}},\n",
    "    {'city': 'Milan, Italy', 'feature_type': 'bus_stops', 'tags': {'highway': 'bus_stop'}},\n",
    "\n",
    "    # Milano - Use Case 4 Data\n",
    "    {'city': 'Milan, Italy', 'feature_type': 'neighborhoods', 'tags': {'boundary': 'administrative', 'admin_level': '9'}},\n",
    "    {'city': 'Milan, Italy', 'feature_type': 'parks', 'tags': {'leisure': 'park'}},\n",
    "    {'city': 'Milan, Italy', 'feature_type': 'hospitals', 'tags': {'amenity': 'hospital'}},\n",
    "    {'city': 'Milan, Italy', 'feature_type': 'residential_streets', 'tags': {'highway': 'residential'}},\n",
    "    {'city': 'Milan, Italy', 'feature_type': 'trees', 'tags': {'natural': 'tree'}},\n",
    "\n",
    "    # Roma - Use Case 3 Data\n",
    "    {'city': 'Rome, Italy', 'feature_type': 'buildings', 'tags': {'building': True}},\n",
    "    {'city': 'Rome, Italy', 'feature_type': 'restaurants', 'tags': {'amenity': 'restaurant'}},\n",
    "    {'city': 'Rome, Italy', 'feature_type': 'bus_stops', 'tags': {'highway': 'bus_stop'}},\n",
    "\n",
    "    # Roma - Use Case 4 Data\n",
    "    {'city': 'Rome, Italy', 'feature_type': 'neighborhoods', 'tags': {'boundary': 'administrative', 'admin_level': '9'}},\n",
    "    {'city': 'Rome, Italy', 'feature_type': 'parks', 'tags': {'leisure': 'park'}},\n",
    "    {'city': 'Rome, Italy', 'feature_type': 'hospitals', 'tags': {'amenity': 'hospital'}},\n",
    "    {'city': 'Rome, Italy', 'feature_type': 'residential_streets', 'tags': {'highway': 'residential'}},\n",
    "    {'city': 'Rome, Italy', 'feature_type': 'trees', 'tags': {'natural': 'tree'}},\n",
    "]\n",
    "\n",
    "print(\"\\nStarting data extraction process.\")\n",
    "tasks_completed = 0\n",
    "tasks_skipped = 0\n",
    "\n",
    "# Iterate over each task and generate the corresponding file\n",
    "for task in extraction_tasks:\n",
    "    city_name_query = task['city']\n",
    "    # Use a clean name for the output file (e.g., \"pinerolo\")\n",
    "    city_name_file = city_name_query.split(',')[0].lower()\n",
    "    feature_type = task['feature_type']\n",
    "    tags_filter = task['tags']\n",
    "\n",
    "    output_filename = f\"{city_name_file}_{feature_type}.geoparquet\"\n",
    "    output_filepath = PROCESSED_DATA_DIR / output_filename\n",
    "\n",
    "    print(f\"\\nStarting the extraction of '{feature_type}' for '{city_name_query}'.\")\n",
    "\n",
    "    # This check is crucial to avoid re-running lengthy extractions\n",
    "    if output_filepath.exists():\n",
    "        print(f\"Result file '{output_filename}' already exists. Skipping task.\")\n",
    "        tasks_skipped += 1\n",
    "        continue\n",
    "\n",
    "    try:\n",
    "        # Get the geographic boundary for the city\n",
    "        print(f\"Fetching boundary for {city_name_query}.\")\n",
    "        boundary_gdf = ox.geocode_to_gdf(city_name_query)\n",
    "        print(\"Boundary fetched successfully.\")\n",
    "\n",
    "        # Configure the PBF reader with geographic and tag filters\n",
    "        pbf_reader = quackosm.PbfFileReader(\n",
    "            geometry_filter=boundary_gdf.geometry.iloc[0],\n",
    "            tags_filter=tags_filter,\n",
    "            ignore_metadata_tags=True\n",
    "        )\n",
    "\n",
    "        # Execute the conversion from PBF to GeoDataFrame\n",
    "        print(f\"Starting extraction from {PBF_FILENAME}.\")\n",
    "        features_gdf = pbf_reader.convert_pbf_to_geodataframe(PBF_FILEPATH)\n",
    "        print(f\"Extraction complete. Found {len(features_gdf)} features.\")\n",
    "\n",
    "        # Save the result to a GeoParquet file\n",
    "        if not features_gdf.empty:\n",
    "            print(f\"Saving data to {output_filename}.\")\n",
    "            features_gdf.to_parquet(output_filepath)\n",
    "            print(f\"Successfully saved file to {output_filepath.relative_to(PROJECT_ROOT)}.\")\n",
    "        else:\n",
    "            print(\"Warning: No features found for this task. An empty GeoParquet file will not be created.\")\n",
    "\n",
    "        tasks_completed += 1\n",
    "\n",
    "    except Exception as e:\n",
    "        print(f\"ERROR while processing task for {city_name_query}: {e}.\")\n",
    "\n",
    "print(\"\\nData preparation process finished.\")\n",
    "print(f\"Tasks completed successfully: {tasks_completed}\")\n",
    "print(f\"Tasks skipped (already done): {tasks_skipped}\")"
   ],
   "id": "initial_id",
   "outputs": [
    {
     "name": "stdout",
     "output_type": "stream",
     "text": [
      "PBF file already found at: UseCasesManagement\\data\\raw\\italy-latest.osm.pbf. Skipping download.\n",
      "\n",
      "Starting data extraction process.\n",
      "\n",
      "Starting the extraction of 'buildings' for 'Pinerolo, Italy'.\n",
      "Result file 'pinerolo_buildings.geoparquet' already exists. Skipping task.\n",
      "\n",
      "Starting the extraction of 'restaurants' for 'Pinerolo, Italy'.\n",
      "Result file 'pinerolo_restaurants.geoparquet' already exists. Skipping task.\n",
      "\n",
      "Starting the extraction of 'bus_stops' for 'Pinerolo, Italy'.\n",
      "Result file 'pinerolo_bus_stops.geoparquet' already exists. Skipping task.\n",
      "\n",
      "Starting the extraction of 'neighborhoods' for 'Pinerolo, Italy'.\n",
      "Fetching boundary for Pinerolo, Italy.\n",
      "Boundary fetched successfully.\n",
      "Starting extraction from italy-latest.osm.pbf.\n"
     ]
    },
    {
     "data": {
      "text/plain": [
       "Output()"
      ],
      "application/vnd.jupyter.widget-view+json": {
       "version_major": 2,
       "version_minor": 0,
       "model_id": "a41eda5c0c384b039b73c7d270ae2bcc"
      }
     },
     "metadata": {},
     "output_type": "display_data"
    },
    {
     "data": {
      "text/plain": [],
      "text/html": [
       "<pre style=\"white-space:pre;overflow-x:auto;line-height:normal;font-family:Menlo,'DejaVu Sans Mono',consolas,'Courier New',monospace\"></pre>\n"
      ]
     },
     "metadata": {},
     "output_type": "display_data"
    },
    {
     "data": {
      "text/plain": [
       "\n"
      ],
      "text/html": [
       "<pre style=\"white-space:pre;overflow-x:auto;line-height:normal;font-family:Menlo,'DejaVu Sans Mono',consolas,'Courier New',monospace\">\n",
       "</pre>\n"
      ]
     },
     "metadata": {},
     "output_type": "display_data"
    },
    {
     "data": {
      "text/plain": [
       "Finished operation in \u001B[1;33m0:03:17\u001B[0m\n"
      ],
      "text/html": [
       "<pre style=\"white-space:pre;overflow-x:auto;line-height:normal;font-family:Menlo,'DejaVu Sans Mono',consolas,'Courier New',monospace\">Finished operation in <span style=\"color: #808000; text-decoration-color: #808000; font-weight: bold\">0:03:17</span>\n",
       "</pre>\n"
      ]
     },
     "metadata": {},
     "output_type": "display_data"
    },
    {
     "data": {
      "text/plain": [
       "Output()"
      ],
      "application/vnd.jupyter.widget-view+json": {
       "version_major": 2,
       "version_minor": 0,
       "model_id": "288d1a1611b54972ba4b2170b8473df0"
      }
     },
     "metadata": {},
     "output_type": "display_data"
    },
    {
     "name": "stdout",
     "output_type": "stream",
     "text": [
      "Extraction complete. Found 35 features.\n",
      "Saving data to pinerolo_neighborhoods.geoparquet.\n",
      "Successfully saved file to UseCasesManagement\\data\\processed\\pinerolo_neighborhoods.geoparquet.\n",
      "\n",
      "Starting the extraction of 'parks' for 'Pinerolo, Italy'.\n",
      "Fetching boundary for Pinerolo, Italy.\n",
      "Boundary fetched successfully.\n",
      "Starting extraction from italy-latest.osm.pbf.\n"
     ]
    },
    {
     "data": {
      "text/plain": [],
      "text/html": [
       "<pre style=\"white-space:pre;overflow-x:auto;line-height:normal;font-family:Menlo,'DejaVu Sans Mono',consolas,'Courier New',monospace\"></pre>\n"
      ]
     },
     "metadata": {},
     "output_type": "display_data"
    },
    {
     "data": {
      "text/plain": [
       "\n"
      ],
      "text/html": [
       "<pre style=\"white-space:pre;overflow-x:auto;line-height:normal;font-family:Menlo,'DejaVu Sans Mono',consolas,'Courier New',monospace\">\n",
       "</pre>\n"
      ]
     },
     "metadata": {},
     "output_type": "display_data"
    },
    {
     "data": {
      "text/plain": [
       "Finished operation in \u001B[1;33m0:04:15\u001B[0m\n"
      ],
      "text/html": [
       "<pre style=\"white-space:pre;overflow-x:auto;line-height:normal;font-family:Menlo,'DejaVu Sans Mono',consolas,'Courier New',monospace\">Finished operation in <span style=\"color: #808000; text-decoration-color: #808000; font-weight: bold\">0:04:15</span>\n",
       "</pre>\n"
      ]
     },
     "metadata": {},
     "output_type": "display_data"
    },
    {
     "data": {
      "text/plain": [
       "Output()"
      ],
      "application/vnd.jupyter.widget-view+json": {
       "version_major": 2,
       "version_minor": 0,
       "model_id": "2dd8afe2b364414bb44ae5ee74bb95c8"
      }
     },
     "metadata": {},
     "output_type": "display_data"
    },
    {
     "name": "stdout",
     "output_type": "stream",
     "text": [
      "Extraction complete. Found 34 features.\n",
      "Saving data to pinerolo_parks.geoparquet.\n",
      "Successfully saved file to UseCasesManagement\\data\\processed\\pinerolo_parks.geoparquet.\n",
      "\n",
      "Starting the extraction of 'hospitals' for 'Pinerolo, Italy'.\n",
      "Fetching boundary for Pinerolo, Italy.\n",
      "Boundary fetched successfully.\n",
      "Starting extraction from italy-latest.osm.pbf.\n"
     ]
    },
    {
     "data": {
      "text/plain": [],
      "text/html": [
       "<pre style=\"white-space:pre;overflow-x:auto;line-height:normal;font-family:Menlo,'DejaVu Sans Mono',consolas,'Courier New',monospace\"></pre>\n"
      ]
     },
     "metadata": {},
     "output_type": "display_data"
    },
    {
     "data": {
      "text/plain": [
       "\n"
      ],
      "text/html": [
       "<pre style=\"white-space:pre;overflow-x:auto;line-height:normal;font-family:Menlo,'DejaVu Sans Mono',consolas,'Courier New',monospace\">\n",
       "</pre>\n"
      ]
     },
     "metadata": {},
     "output_type": "display_data"
    },
    {
     "data": {
      "text/plain": [
       "Finished operation in \u001B[1;33m0:05:20\u001B[0m\n"
      ],
      "text/html": [
       "<pre style=\"white-space:pre;overflow-x:auto;line-height:normal;font-family:Menlo,'DejaVu Sans Mono',consolas,'Courier New',monospace\">Finished operation in <span style=\"color: #808000; text-decoration-color: #808000; font-weight: bold\">0:05:20</span>\n",
       "</pre>\n"
      ]
     },
     "metadata": {},
     "output_type": "display_data"
    },
    {
     "data": {
      "text/plain": [
       "Output()"
      ],
      "application/vnd.jupyter.widget-view+json": {
       "version_major": 2,
       "version_minor": 0,
       "model_id": "1723aae1ddd64d508689016508fcbc30"
      }
     },
     "metadata": {},
     "output_type": "display_data"
    },
    {
     "name": "stdout",
     "output_type": "stream",
     "text": [
      "Extraction complete. Found 3 features.\n",
      "Saving data to pinerolo_hospitals.geoparquet.\n",
      "Successfully saved file to UseCasesManagement\\data\\processed\\pinerolo_hospitals.geoparquet.\n",
      "\n",
      "Starting the extraction of 'residential_streets' for 'Pinerolo, Italy'.\n",
      "Fetching boundary for Pinerolo, Italy.\n",
      "Boundary fetched successfully.\n",
      "Starting extraction from italy-latest.osm.pbf.\n"
     ]
    },
    {
     "data": {
      "text/plain": [],
      "text/html": [
       "<pre style=\"white-space:pre;overflow-x:auto;line-height:normal;font-family:Menlo,'DejaVu Sans Mono',consolas,'Courier New',monospace\"></pre>\n"
      ]
     },
     "metadata": {},
     "output_type": "display_data"
    },
    {
     "data": {
      "text/plain": [
       "\n"
      ],
      "text/html": [
       "<pre style=\"white-space:pre;overflow-x:auto;line-height:normal;font-family:Menlo,'DejaVu Sans Mono',consolas,'Courier New',monospace\">\n",
       "</pre>\n"
      ]
     },
     "metadata": {},
     "output_type": "display_data"
    },
    {
     "data": {
      "text/plain": [
       "Finished operation in \u001B[1;33m0:05:46\u001B[0m\n"
      ],
      "text/html": [
       "<pre style=\"white-space:pre;overflow-x:auto;line-height:normal;font-family:Menlo,'DejaVu Sans Mono',consolas,'Courier New',monospace\">Finished operation in <span style=\"color: #808000; text-decoration-color: #808000; font-weight: bold\">0:05:46</span>\n",
       "</pre>\n"
      ]
     },
     "metadata": {},
     "output_type": "display_data"
    },
    {
     "data": {
      "text/plain": [
       "Output()"
      ],
      "application/vnd.jupyter.widget-view+json": {
       "version_major": 2,
       "version_minor": 0,
       "model_id": "cd371d94c8d2491185c8496008ec7628"
      }
     },
     "metadata": {},
     "output_type": "display_data"
    },
    {
     "name": "stdout",
     "output_type": "stream",
     "text": [
      "Extraction complete. Found 551 features.\n",
      "Saving data to pinerolo_residential_streets.geoparquet.\n",
      "Successfully saved file to UseCasesManagement\\data\\processed\\pinerolo_residential_streets.geoparquet.\n",
      "\n",
      "Starting the extraction of 'trees' for 'Pinerolo, Italy'.\n",
      "Fetching boundary for Pinerolo, Italy.\n",
      "Boundary fetched successfully.\n",
      "Starting extraction from italy-latest.osm.pbf.\n"
     ]
    },
    {
     "data": {
      "text/plain": [],
      "text/html": [
       "<pre style=\"white-space:pre;overflow-x:auto;line-height:normal;font-family:Menlo,'DejaVu Sans Mono',consolas,'Courier New',monospace\"></pre>\n"
      ]
     },
     "metadata": {},
     "output_type": "display_data"
    },
    {
     "data": {
      "text/plain": [
       "\n"
      ],
      "text/html": [
       "<pre style=\"white-space:pre;overflow-x:auto;line-height:normal;font-family:Menlo,'DejaVu Sans Mono',consolas,'Courier New',monospace\">\n",
       "</pre>\n"
      ]
     },
     "metadata": {},
     "output_type": "display_data"
    },
    {
     "data": {
      "text/plain": [
       "Finished operation in \u001B[1;33m0:05:44\u001B[0m\n"
      ],
      "text/html": [
       "<pre style=\"white-space:pre;overflow-x:auto;line-height:normal;font-family:Menlo,'DejaVu Sans Mono',consolas,'Courier New',monospace\">Finished operation in <span style=\"color: #808000; text-decoration-color: #808000; font-weight: bold\">0:05:44</span>\n",
       "</pre>\n"
      ]
     },
     "metadata": {},
     "output_type": "display_data"
    },
    {
     "data": {
      "text/plain": [
       "Output()"
      ],
      "application/vnd.jupyter.widget-view+json": {
       "version_major": 2,
       "version_minor": 0,
       "model_id": "56b31d63c39d463e9465ac8cd4f2b807"
      }
     },
     "metadata": {},
     "output_type": "display_data"
    },
    {
     "name": "stdout",
     "output_type": "stream",
     "text": [
      "Extraction complete. Found 437 features.\n",
      "Saving data to pinerolo_trees.geoparquet.\n",
      "Successfully saved file to UseCasesManagement\\data\\processed\\pinerolo_trees.geoparquet.\n",
      "\n",
      "Starting the extraction of 'buildings' for 'Milan, Italy'.\n",
      "Result file 'milan_buildings.geoparquet' already exists. Skipping task.\n",
      "\n",
      "Starting the extraction of 'restaurants' for 'Milan, Italy'.\n",
      "Result file 'milan_restaurants.geoparquet' already exists. Skipping task.\n",
      "\n",
      "Starting the extraction of 'bus_stops' for 'Milan, Italy'.\n",
      "Result file 'milan_bus_stops.geoparquet' already exists. Skipping task.\n",
      "\n",
      "Starting the extraction of 'neighborhoods' for 'Milan, Italy'.\n",
      "Fetching boundary for Milan, Italy.\n",
      "Boundary fetched successfully.\n",
      "Starting extraction from italy-latest.osm.pbf.\n"
     ]
    },
    {
     "data": {
      "text/plain": [],
      "text/html": [
       "<pre style=\"white-space:pre;overflow-x:auto;line-height:normal;font-family:Menlo,'DejaVu Sans Mono',consolas,'Courier New',monospace\"></pre>\n"
      ]
     },
     "metadata": {},
     "output_type": "display_data"
    },
    {
     "data": {
      "text/plain": [
       "\n"
      ],
      "text/html": [
       "<pre style=\"white-space:pre;overflow-x:auto;line-height:normal;font-family:Menlo,'DejaVu Sans Mono',consolas,'Courier New',monospace\">\n",
       "</pre>\n"
      ]
     },
     "metadata": {},
     "output_type": "display_data"
    },
    {
     "data": {
      "text/plain": [
       "Finished operation in \u001B[1;33m0:06:23\u001B[0m\n"
      ],
      "text/html": [
       "<pre style=\"white-space:pre;overflow-x:auto;line-height:normal;font-family:Menlo,'DejaVu Sans Mono',consolas,'Courier New',monospace\">Finished operation in <span style=\"color: #808000; text-decoration-color: #808000; font-weight: bold\">0:06:23</span>\n",
       "</pre>\n"
      ]
     },
     "metadata": {},
     "output_type": "display_data"
    },
    {
     "data": {
      "text/plain": [
       "Output()"
      ],
      "application/vnd.jupyter.widget-view+json": {
       "version_major": 2,
       "version_minor": 0,
       "model_id": "c8858f733a95400ba1771fc7cc32548e"
      }
     },
     "metadata": {},
     "output_type": "display_data"
    },
    {
     "name": "stdout",
     "output_type": "stream",
     "text": [
      "Extraction complete. Found 185 features.\n",
      "Saving data to milan_neighborhoods.geoparquet.\n",
      "Successfully saved file to UseCasesManagement\\data\\processed\\milan_neighborhoods.geoparquet.\n",
      "\n",
      "Starting the extraction of 'parks' for 'Milan, Italy'.\n",
      "Fetching boundary for Milan, Italy.\n",
      "Boundary fetched successfully.\n",
      "Starting extraction from italy-latest.osm.pbf.\n"
     ]
    },
    {
     "data": {
      "text/plain": [],
      "text/html": [
       "<pre style=\"white-space:pre;overflow-x:auto;line-height:normal;font-family:Menlo,'DejaVu Sans Mono',consolas,'Courier New',monospace\"></pre>\n"
      ]
     },
     "metadata": {},
     "output_type": "display_data"
    },
    {
     "data": {
      "text/plain": [
       "\n"
      ],
      "text/html": [
       "<pre style=\"white-space:pre;overflow-x:auto;line-height:normal;font-family:Menlo,'DejaVu Sans Mono',consolas,'Courier New',monospace\">\n",
       "</pre>\n"
      ]
     },
     "metadata": {},
     "output_type": "display_data"
    },
    {
     "data": {
      "text/plain": [
       "Finished operation in \u001B[1;33m0:06:39\u001B[0m\n"
      ],
      "text/html": [
       "<pre style=\"white-space:pre;overflow-x:auto;line-height:normal;font-family:Menlo,'DejaVu Sans Mono',consolas,'Courier New',monospace\">Finished operation in <span style=\"color: #808000; text-decoration-color: #808000; font-weight: bold\">0:06:39</span>\n",
       "</pre>\n"
      ]
     },
     "metadata": {},
     "output_type": "display_data"
    },
    {
     "data": {
      "text/plain": [
       "Output()"
      ],
      "application/vnd.jupyter.widget-view+json": {
       "version_major": 2,
       "version_minor": 0,
       "model_id": "58bc60f4220a45afb76ab6930d805068"
      }
     },
     "metadata": {},
     "output_type": "display_data"
    },
    {
     "name": "stdout",
     "output_type": "stream",
     "text": [
      "Extraction complete. Found 841 features.\n",
      "Saving data to milan_parks.geoparquet.\n",
      "Successfully saved file to UseCasesManagement\\data\\processed\\milan_parks.geoparquet.\n",
      "\n",
      "Starting the extraction of 'hospitals' for 'Milan, Italy'.\n",
      "Fetching boundary for Milan, Italy.\n",
      "Boundary fetched successfully.\n",
      "Starting extraction from italy-latest.osm.pbf.\n"
     ]
    },
    {
     "data": {
      "text/plain": [],
      "text/html": [
       "<pre style=\"white-space:pre;overflow-x:auto;line-height:normal;font-family:Menlo,'DejaVu Sans Mono',consolas,'Courier New',monospace\"></pre>\n"
      ]
     },
     "metadata": {},
     "output_type": "display_data"
    },
    {
     "data": {
      "text/plain": [
       "\n"
      ],
      "text/html": [
       "<pre style=\"white-space:pre;overflow-x:auto;line-height:normal;font-family:Menlo,'DejaVu Sans Mono',consolas,'Courier New',monospace\">\n",
       "</pre>\n"
      ]
     },
     "metadata": {},
     "output_type": "display_data"
    },
    {
     "data": {
      "text/plain": [
       "Finished operation in \u001B[1;33m0:06:55\u001B[0m\n"
      ],
      "text/html": [
       "<pre style=\"white-space:pre;overflow-x:auto;line-height:normal;font-family:Menlo,'DejaVu Sans Mono',consolas,'Courier New',monospace\">Finished operation in <span style=\"color: #808000; text-decoration-color: #808000; font-weight: bold\">0:06:55</span>\n",
       "</pre>\n"
      ]
     },
     "metadata": {},
     "output_type": "display_data"
    },
    {
     "name": "stdout",
     "output_type": "stream",
     "text": [
      "Extraction complete. Found 45 features.\n",
      "Saving data to milan_hospitals.geoparquet.\n",
      "Successfully saved file to UseCasesManagement\\data\\processed\\milan_hospitals.geoparquet.\n",
      "\n",
      "Starting the extraction of 'residential_streets' for 'Milan, Italy'.\n",
      "Fetching boundary for Milan, Italy.\n"
     ]
    },
    {
     "data": {
      "text/plain": [
       "Output()"
      ],
      "application/vnd.jupyter.widget-view+json": {
       "version_major": 2,
       "version_minor": 0,
       "model_id": "cedefc51f5e9465b97104aff865ba9a7"
      }
     },
     "metadata": {},
     "output_type": "display_data"
    },
    {
     "name": "stdout",
     "output_type": "stream",
     "text": [
      "Boundary fetched successfully.\n",
      "Starting extraction from italy-latest.osm.pbf.\n"
     ]
    },
    {
     "data": {
      "text/plain": [],
      "text/html": [
       "<pre style=\"white-space:pre;overflow-x:auto;line-height:normal;font-family:Menlo,'DejaVu Sans Mono',consolas,'Courier New',monospace\"></pre>\n"
      ]
     },
     "metadata": {},
     "output_type": "display_data"
    },
    {
     "data": {
      "text/plain": [
       "\n"
      ],
      "text/html": [
       "<pre style=\"white-space:pre;overflow-x:auto;line-height:normal;font-family:Menlo,'DejaVu Sans Mono',consolas,'Courier New',monospace\">\n",
       "</pre>\n"
      ]
     },
     "metadata": {},
     "output_type": "display_data"
    },
    {
     "data": {
      "text/plain": [
       "Finished operation in \u001B[1;33m0:07:02\u001B[0m\n"
      ],
      "text/html": [
       "<pre style=\"white-space:pre;overflow-x:auto;line-height:normal;font-family:Menlo,'DejaVu Sans Mono',consolas,'Courier New',monospace\">Finished operation in <span style=\"color: #808000; text-decoration-color: #808000; font-weight: bold\">0:07:02</span>\n",
       "</pre>\n"
      ]
     },
     "metadata": {},
     "output_type": "display_data"
    },
    {
     "name": "stdout",
     "output_type": "stream",
     "text": [
      "Extraction complete. Found 10037 features.\n",
      "Saving data to milan_residential_streets.geoparquet.\n",
      "Successfully saved file to UseCasesManagement\\data\\processed\\milan_residential_streets.geoparquet.\n",
      "\n",
      "Starting the extraction of 'trees' for 'Milan, Italy'.\n",
      "Fetching boundary for Milan, Italy.\n",
      "Boundary fetched successfully.\n",
      "Starting extraction from italy-latest.osm.pbf.\n"
     ]
    },
    {
     "data": {
      "text/plain": [
       "Output()"
      ],
      "application/vnd.jupyter.widget-view+json": {
       "version_major": 2,
       "version_minor": 0,
       "model_id": "969c7bcca54d451fac99122a174bdcea"
      }
     },
     "metadata": {},
     "output_type": "display_data"
    },
    {
     "data": {
      "text/plain": [],
      "text/html": [
       "<pre style=\"white-space:pre;overflow-x:auto;line-height:normal;font-family:Menlo,'DejaVu Sans Mono',consolas,'Courier New',monospace\"></pre>\n"
      ]
     },
     "metadata": {},
     "output_type": "display_data"
    },
    {
     "data": {
      "text/plain": [
       "\n"
      ],
      "text/html": [
       "<pre style=\"white-space:pre;overflow-x:auto;line-height:normal;font-family:Menlo,'DejaVu Sans Mono',consolas,'Courier New',monospace\">\n",
       "</pre>\n"
      ]
     },
     "metadata": {},
     "output_type": "display_data"
    },
    {
     "data": {
      "text/plain": [
       "Finished operation in \u001B[1;33m0:06:59\u001B[0m\n"
      ],
      "text/html": [
       "<pre style=\"white-space:pre;overflow-x:auto;line-height:normal;font-family:Menlo,'DejaVu Sans Mono',consolas,'Courier New',monospace\">Finished operation in <span style=\"color: #808000; text-decoration-color: #808000; font-weight: bold\">0:06:59</span>\n",
       "</pre>\n"
      ]
     },
     "metadata": {},
     "output_type": "display_data"
    },
    {
     "name": "stdout",
     "output_type": "stream",
     "text": [
      "Extraction complete. Found 25024 features.\n",
      "Saving data to milan_trees.geoparquet.\n",
      "Successfully saved file to UseCasesManagement\\data\\processed\\milan_trees.geoparquet.\n",
      "\n",
      "Starting the extraction of 'buildings' for 'Rome, Italy'.\n",
      "Result file 'rome_buildings.geoparquet' already exists. Skipping task.\n",
      "\n",
      "Starting the extraction of 'restaurants' for 'Rome, Italy'.\n",
      "Result file 'rome_restaurants.geoparquet' already exists. Skipping task.\n",
      "\n",
      "Starting the extraction of 'bus_stops' for 'Rome, Italy'.\n",
      "Result file 'rome_bus_stops.geoparquet' already exists. Skipping task.\n",
      "\n",
      "Starting the extraction of 'neighborhoods' for 'Rome, Italy'.\n",
      "Fetching boundary for Rome, Italy.\n",
      "Boundary fetched successfully.\n",
      "Starting extraction from italy-latest.osm.pbf.\n"
     ]
    },
    {
     "data": {
      "text/plain": [
       "Output()"
      ],
      "application/vnd.jupyter.widget-view+json": {
       "version_major": 2,
       "version_minor": 0,
       "model_id": "430cfbbab86948909237c182385c08e2"
      }
     },
     "metadata": {},
     "output_type": "display_data"
    },
    {
     "data": {
      "text/plain": [],
      "text/html": [
       "<pre style=\"white-space:pre;overflow-x:auto;line-height:normal;font-family:Menlo,'DejaVu Sans Mono',consolas,'Courier New',monospace\"></pre>\n"
      ]
     },
     "metadata": {},
     "output_type": "display_data"
    },
    {
     "data": {
      "text/plain": [
       "\n"
      ],
      "text/html": [
       "<pre style=\"white-space:pre;overflow-x:auto;line-height:normal;font-family:Menlo,'DejaVu Sans Mono',consolas,'Courier New',monospace\">\n",
       "</pre>\n"
      ]
     },
     "metadata": {},
     "output_type": "display_data"
    },
    {
     "data": {
      "text/plain": [
       "Finished operation in \u001B[1;33m0:07:38\u001B[0m\n"
      ],
      "text/html": [
       "<pre style=\"white-space:pre;overflow-x:auto;line-height:normal;font-family:Menlo,'DejaVu Sans Mono',consolas,'Courier New',monospace\">Finished operation in <span style=\"color: #808000; text-decoration-color: #808000; font-weight: bold\">0:07:38</span>\n",
       "</pre>\n"
      ]
     },
     "metadata": {},
     "output_type": "display_data"
    },
    {
     "name": "stdout",
     "output_type": "stream",
     "text": [
      "Extraction complete. Found 298 features.\n",
      "Saving data to rome_neighborhoods.geoparquet.\n",
      "Successfully saved file to UseCasesManagement\\data\\processed\\rome_neighborhoods.geoparquet.\n",
      "\n",
      "Starting the extraction of 'parks' for 'Rome, Italy'.\n",
      "Fetching boundary for Rome, Italy.\n",
      "Boundary fetched successfully.\n",
      "Starting extraction from italy-latest.osm.pbf.\n"
     ]
    },
    {
     "data": {
      "text/plain": [
       "Output()"
      ],
      "application/vnd.jupyter.widget-view+json": {
       "version_major": 2,
       "version_minor": 0,
       "model_id": "6a13a124918c44c6b5ce9368717d56c6"
      }
     },
     "metadata": {},
     "output_type": "display_data"
    },
    {
     "data": {
      "text/plain": [],
      "text/html": [
       "<pre style=\"white-space:pre;overflow-x:auto;line-height:normal;font-family:Menlo,'DejaVu Sans Mono',consolas,'Courier New',monospace\"></pre>\n"
      ]
     },
     "metadata": {},
     "output_type": "display_data"
    },
    {
     "data": {
      "text/plain": [
       "\n"
      ],
      "text/html": [
       "<pre style=\"white-space:pre;overflow-x:auto;line-height:normal;font-family:Menlo,'DejaVu Sans Mono',consolas,'Courier New',monospace\">\n",
       "</pre>\n"
      ]
     },
     "metadata": {},
     "output_type": "display_data"
    },
    {
     "data": {
      "text/plain": [
       "Finished operation in \u001B[1;33m0:07:43\u001B[0m\n"
      ],
      "text/html": [
       "<pre style=\"white-space:pre;overflow-x:auto;line-height:normal;font-family:Menlo,'DejaVu Sans Mono',consolas,'Courier New',monospace\">Finished operation in <span style=\"color: #808000; text-decoration-color: #808000; font-weight: bold\">0:07:43</span>\n",
       "</pre>\n"
      ]
     },
     "metadata": {},
     "output_type": "display_data"
    },
    {
     "name": "stdout",
     "output_type": "stream",
     "text": [
      "Extraction complete. Found 1151 features.\n",
      "Saving data to rome_parks.geoparquet.\n",
      "Successfully saved file to UseCasesManagement\\data\\processed\\rome_parks.geoparquet.\n",
      "\n",
      "Starting the extraction of 'hospitals' for 'Rome, Italy'.\n",
      "Fetching boundary for Rome, Italy.\n",
      "Boundary fetched successfully.\n",
      "Starting extraction from italy-latest.osm.pbf.\n"
     ]
    },
    {
     "data": {
      "text/plain": [
       "Output()"
      ],
      "application/vnd.jupyter.widget-view+json": {
       "version_major": 2,
       "version_minor": 0,
       "model_id": "f058a2298c004f08bb7af82f375b31c7"
      }
     },
     "metadata": {},
     "output_type": "display_data"
    },
    {
     "data": {
      "text/plain": [],
      "text/html": [
       "<pre style=\"white-space:pre;overflow-x:auto;line-height:normal;font-family:Menlo,'DejaVu Sans Mono',consolas,'Courier New',monospace\"></pre>\n"
      ]
     },
     "metadata": {},
     "output_type": "display_data"
    },
    {
     "data": {
      "text/plain": [
       "\n"
      ],
      "text/html": [
       "<pre style=\"white-space:pre;overflow-x:auto;line-height:normal;font-family:Menlo,'DejaVu Sans Mono',consolas,'Courier New',monospace\">\n",
       "</pre>\n"
      ]
     },
     "metadata": {},
     "output_type": "display_data"
    },
    {
     "data": {
      "text/plain": [
       "Finished operation in \u001B[1;33m0:07:52\u001B[0m\n"
      ],
      "text/html": [
       "<pre style=\"white-space:pre;overflow-x:auto;line-height:normal;font-family:Menlo,'DejaVu Sans Mono',consolas,'Courier New',monospace\">Finished operation in <span style=\"color: #808000; text-decoration-color: #808000; font-weight: bold\">0:07:52</span>\n",
       "</pre>\n"
      ]
     },
     "metadata": {},
     "output_type": "display_data"
    },
    {
     "name": "stdout",
     "output_type": "stream",
     "text": [
      "Extraction complete. Found 89 features.\n",
      "Saving data to rome_hospitals.geoparquet.\n",
      "Successfully saved file to UseCasesManagement\\data\\processed\\rome_hospitals.geoparquet.\n",
      "\n",
      "Starting the extraction of 'residential_streets' for 'Rome, Italy'.\n",
      "Fetching boundary for Rome, Italy.\n",
      "Boundary fetched successfully.\n",
      "Starting extraction from italy-latest.osm.pbf.\n"
     ]
    },
    {
     "data": {
      "text/plain": [
       "Output()"
      ],
      "application/vnd.jupyter.widget-view+json": {
       "version_major": 2,
       "version_minor": 0,
       "model_id": "c961c86ff84a44f796d6767a8f3fa203"
      }
     },
     "metadata": {},
     "output_type": "display_data"
    },
    {
     "data": {
      "text/plain": [],
      "text/html": [
       "<pre style=\"white-space:pre;overflow-x:auto;line-height:normal;font-family:Menlo,'DejaVu Sans Mono',consolas,'Courier New',monospace\"></pre>\n"
      ]
     },
     "metadata": {},
     "output_type": "display_data"
    },
    {
     "data": {
      "text/plain": [
       "\n"
      ],
      "text/html": [
       "<pre style=\"white-space:pre;overflow-x:auto;line-height:normal;font-family:Menlo,'DejaVu Sans Mono',consolas,'Courier New',monospace\">\n",
       "</pre>\n"
      ]
     },
     "metadata": {},
     "output_type": "display_data"
    },
    {
     "data": {
      "text/plain": [
       "Finished operation in \u001B[1;33m0:07:57\u001B[0m\n"
      ],
      "text/html": [
       "<pre style=\"white-space:pre;overflow-x:auto;line-height:normal;font-family:Menlo,'DejaVu Sans Mono',consolas,'Courier New',monospace\">Finished operation in <span style=\"color: #808000; text-decoration-color: #808000; font-weight: bold\">0:07:57</span>\n",
       "</pre>\n"
      ]
     },
     "metadata": {},
     "output_type": "display_data"
    },
    {
     "name": "stdout",
     "output_type": "stream",
     "text": [
      "Extraction complete. Found 26743 features.\n",
      "Saving data to rome_residential_streets.geoparquet.\n",
      "Successfully saved file to UseCasesManagement\\data\\processed\\rome_residential_streets.geoparquet.\n",
      "\n",
      "Starting the extraction of 'trees' for 'Rome, Italy'.\n",
      "Fetching boundary for Rome, Italy.\n",
      "Boundary fetched successfully.\n",
      "Starting extraction from italy-latest.osm.pbf.\n"
     ]
    },
    {
     "data": {
      "text/plain": [
       "Output()"
      ],
      "application/vnd.jupyter.widget-view+json": {
       "version_major": 2,
       "version_minor": 0,
       "model_id": "c7788b362c0f4aeba921e4aa04e9486c"
      }
     },
     "metadata": {},
     "output_type": "display_data"
    },
    {
     "data": {
      "text/plain": [],
      "text/html": [
       "<pre style=\"white-space:pre;overflow-x:auto;line-height:normal;font-family:Menlo,'DejaVu Sans Mono',consolas,'Courier New',monospace\"></pre>\n"
      ]
     },
     "metadata": {},
     "output_type": "display_data"
    },
    {
     "data": {
      "text/plain": [
       "\n"
      ],
      "text/html": [
       "<pre style=\"white-space:pre;overflow-x:auto;line-height:normal;font-family:Menlo,'DejaVu Sans Mono',consolas,'Courier New',monospace\">\n",
       "</pre>\n"
      ]
     },
     "metadata": {},
     "output_type": "display_data"
    },
    {
     "data": {
      "text/plain": [
       "Finished operation in \u001B[1;33m0:07:25\u001B[0m\n"
      ],
      "text/html": [
       "<pre style=\"white-space:pre;overflow-x:auto;line-height:normal;font-family:Menlo,'DejaVu Sans Mono',consolas,'Courier New',monospace\">Finished operation in <span style=\"color: #808000; text-decoration-color: #808000; font-weight: bold\">0:07:25</span>\n",
       "</pre>\n"
      ]
     },
     "metadata": {},
     "output_type": "display_data"
    },
    {
     "name": "stdout",
     "output_type": "stream",
     "text": [
      "Extraction complete. Found 35138 features.\n",
      "Saving data to rome_trees.geoparquet.\n",
      "Successfully saved file to UseCasesManagement\\data\\processed\\rome_trees.geoparquet.\n",
      "\n",
      "Data preparation process finished.\n",
      "Tasks completed successfully: 15\n",
      "Tasks skipped (already done): 9\n"
     ]
    }
   ],
   "execution_count": 2
  },
  {
   "metadata": {
    "ExecuteTime": {
     "end_time": "2025-08-11T18:04:58.687257Z",
     "start_time": "2025-08-11T18:04:58.649476Z"
    }
   },
   "cell_type": "code",
   "source": [
    "import geopandas as gpd\n",
    "from pathlib import Path\n",
    "\n",
    "# Ensure the path points to your 'processed' folder\n",
    "# Change the filename to check any other dataset\n",
    "WORKING_ROOT = Path('.').resolve().parent\n",
    "PROCESSED_DATA_DIR = WORKING_ROOT / 'data' / 'processed'\n",
    "file_to_check = PROCESSED_DATA_DIR / 'rome_neighborhoods.geoparquet'\n",
    "\n",
    "# Load the GeoParquet file\n",
    "print(f\"Inspecting file: {file_to_check.name}\")\n",
    "gdf = gpd.read_parquet(file_to_check)\n",
    "\n",
    "# Print the list of columns\n",
    "print(\"\\n File Columns.\")\n",
    "print(gdf.columns)\n",
    "\n",
    "# Print the first few rows to see the structure\n",
    "print(\"\\n Data Preview.\")\n",
    "print(gdf.head())"
   ],
   "id": "caabad69debfedbc",
   "outputs": [
    {
     "name": "stdout",
     "output_type": "stream",
     "text": [
      "Inspecting file: rome_neighborhoods.geoparquet\n",
      "\n",
      " File Columns.\n",
      "Index(['boundary', 'admin_level', 'geometry'], dtype='object')\n",
      "\n",
      " Data Preview.\n",
      "                        boundary admin_level  \\\n",
      "feature_id                                     \n",
      "relation/41455    administrative        None   \n",
      "way/192699676     administrative        None   \n",
      "relation/1460885  administrative        None   \n",
      "way/553983628     administrative        None   \n",
      "way/186052308     administrative        None   \n",
      "\n",
      "                                                           geometry  \n",
      "feature_id                                                           \n",
      "relation/41455    POLYGON ((12.41594 41.65564, 12.41646 41.65601...  \n",
      "way/192699676     LINESTRING (12.41594 41.65564, 12.41646 41.656...  \n",
      "relation/1460885  POLYGON ((12.25405 41.74515, 12.25857 41.74692...  \n",
      "way/553983628     LINESTRING (12.43671 41.77197, 12.43704 41.771...  \n",
      "way/186052308     LINESTRING (12.45145 41.68172, 12.45167 41.681...  \n"
     ]
    }
   ],
   "execution_count": 8
  }
 ],
 "metadata": {
  "kernelspec": {
   "display_name": "Python 3",
   "language": "python",
   "name": "python3"
  },
  "language_info": {
   "codemirror_mode": {
    "name": "ipython",
    "version": 2
   },
   "file_extension": ".py",
   "mimetype": "text/x-python",
   "name": "python",
   "nbconvert_exporter": "python",
   "pygments_lexer": "ipython2",
   "version": "2.7.6"
  }
 },
 "nbformat": 4,
 "nbformat_minor": 5
}
