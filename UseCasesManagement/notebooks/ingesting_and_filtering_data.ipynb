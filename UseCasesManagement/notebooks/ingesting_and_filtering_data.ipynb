{
 "cells": [
  {
   "metadata": {},
   "cell_type": "markdown",
   "source": "# Use case 1: Ingesting and Filtering Data from OpenStreetMap",
   "id": "e0d798eed58ae939"
  },
  {
   "cell_type": "code",
   "id": "2da6b7316b2321f0",
   "metadata": {
    "ExecuteTime": {
     "end_time": "2025-06-23T18:00:43.010388Z",
     "start_time": "2025-06-23T18:00:42.969533Z"
    }
   },
   "source": [
    "import os\n",
    "import urllib.request\n",
    "import quackosm\n",
    "import osmnx as ox"
   ],
   "outputs": [],
   "execution_count": 8
  },
  {
   "metadata": {
    "ExecuteTime": {
     "end_time": "2025-06-23T18:07:55.408542Z",
     "start_time": "2025-06-23T18:00:43.092689Z"
    }
   },
   "cell_type": "code",
   "source": [
    "# Define Paths and URLs\n",
    "RAW_DATA_DIR = '../data/raw'\n",
    "PROCESSED_DATA_DIR = '../data/processed'\n",
    "\n",
    "# The PBF file will be downloaded from this URL\n",
    "PBF_URL = \"https://download.geofabrik.de/europe/italy-latest.osm.pbf\"\n",
    "PBF_FILENAME = PBF_URL.split('/')[-1]\n",
    "PBF_FILEPATH = os.path.join(RAW_DATA_DIR, PBF_FILENAME)\n",
    "\n",
    "# The final processed file\n",
    "OUTPUT_FILE = os.path.join(PROCESSED_DATA_DIR, 'milan_buildings.geoparquet')\n",
    "\n",
    "# Create Directories and Download Data (if needed)\n",
    "os.makedirs(RAW_DATA_DIR, exist_ok=True)\n",
    "os.makedirs(PROCESSED_DATA_DIR, exist_ok=True)\n",
    "\n",
    "# Check if the PBF file already exists before downloading\n",
    "if not os.path.exists(PBF_FILEPATH):\n",
    "    print(f\"PBF file not found. Downloading from {PBF_URL}...\")\n",
    "    urllib.request.urlretrieve(PBF_URL, PBF_FILEPATH)\n",
    "    print(f\"Download complete. File saved to {PBF_FILEPATH}\")\n",
    "else:\n",
    "    print(f\"PBF file already exists at {PBF_FILEPATH}. Skipping download.\")\n",
    "\n",
    "# Define the Area of Interest (Milan's boundary)\n",
    "print(\"\\nFetching the boundary for Milan.\")\n",
    "place_name = \"Milan, Italy\"\n",
    "milan_gdf = ox.geocode_to_gdf(place_name)\n",
    "print(\"Boundary fetched.\")\n",
    "\n",
    "# Filter the PBF file\n",
    "print(f\"Starting building extraction from PBF file: {PBF_FILEPATH}.\")\n",
    "\n",
    "# Create the reader object by passing the FILTERS for configuration.\n",
    "pbf_reader = quackosm.PbfFileReader(\n",
    "    geometry_filter=milan_gdf.geometry.iloc[0],\n",
    "    tags_filter={'building': True}\n",
    ")\n",
    "\n",
    "buildings_gdf = pbf_reader.convert_pbf_to_geodataframe(PBF_FILEPATH)\n",
    "\n",
    "print(f\"Extraction complete. Found {len(buildings_gdf)} buildings.\")\n",
    "\n",
    "# Save to GeoParquet format\n",
    "print(f\"Saving data to {OUTPUT_FILE}...\")\n",
    "buildings_gdf.to_parquet(OUTPUT_FILE)\n",
    "\n",
    "print(f\"\\nDone! The GeoParquet file was created successfully at: {OUTPUT_FILE}.\")"
   ],
   "id": "initial_id",
   "outputs": [
    {
     "name": "stdout",
     "output_type": "stream",
     "text": [
      "PBF file already exists at ../data/raw\\italy-latest.osm.pbf. Skipping download.\n",
      "\n",
      "Fetching the boundary for Milan...\n"
     ]
    },
    {
     "data": {
      "text/plain": [
       "Output()"
      ],
      "application/vnd.jupyter.widget-view+json": {
       "version_major": 2,
       "version_minor": 0,
       "model_id": "ef6b49c01ca44749a379eb472ea82818"
      }
     },
     "metadata": {},
     "output_type": "display_data"
    },
    {
     "name": "stdout",
     "output_type": "stream",
     "text": [
      "Boundary fetched.\n",
      "Starting building extraction from PBF file: ../data/raw\\italy-latest.osm.pbf\n"
     ]
    },
    {
     "data": {
      "text/plain": [
       "Encountered MemoryError during operation. Retrying with lower number of rows per group \u001B[1m(\u001B[0m\u001B[1;36m100000\u001B[0m\u001B[1m)\u001B[0m.\n"
      ],
      "text/html": [
       "<pre style=\"white-space:pre;overflow-x:auto;line-height:normal;font-family:Menlo,'DejaVu Sans Mono',consolas,'Courier New',monospace\">Encountered MemoryError during operation. Retrying with lower number of rows per group <span style=\"font-weight: bold\">(</span><span style=\"color: #008080; text-decoration-color: #008080; font-weight: bold\">100000</span><span style=\"font-weight: bold\">)</span>.\n",
       "</pre>\n"
      ]
     },
     "metadata": {},
     "output_type": "display_data"
    },
    {
     "data": {
      "text/plain": [],
      "text/html": [
       "<pre style=\"white-space:pre;overflow-x:auto;line-height:normal;font-family:Menlo,'DejaVu Sans Mono',consolas,'Courier New',monospace\"></pre>\n"
      ]
     },
     "metadata": {},
     "output_type": "display_data"
    },
    {
     "data": {
      "text/plain": [
       "\n"
      ],
      "text/html": [
       "<pre style=\"white-space:pre;overflow-x:auto;line-height:normal;font-family:Menlo,'DejaVu Sans Mono',consolas,'Courier New',monospace\">\n",
       "</pre>\n"
      ]
     },
     "metadata": {},
     "output_type": "display_data"
    },
    {
     "data": {
      "text/plain": [
       "Finished operation in \u001B[1;33m0:07:09\u001B[0m\n"
      ],
      "text/html": [
       "<pre style=\"white-space:pre;overflow-x:auto;line-height:normal;font-family:Menlo,'DejaVu Sans Mono',consolas,'Courier New',monospace\">Finished operation in <span style=\"color: #808000; text-decoration-color: #808000; font-weight: bold\">0:07:09</span>\n",
       "</pre>\n"
      ]
     },
     "metadata": {},
     "output_type": "display_data"
    },
    {
     "name": "stdout",
     "output_type": "stream",
     "text": [
      "Extraction complete. Found 62133 buildings.\n",
      "Saving data to ../data/processed\\milan_buildings.geoparquet...\n",
      "\n",
      "Done! The GeoParquet file was created successfully at: ../data/processed\\milan_buildings.geoparquet\n"
     ]
    }
   ],
   "execution_count": 9
  }
 ],
 "metadata": {
  "kernelspec": {
   "display_name": "Python 3",
   "language": "python",
   "name": "python3"
  },
  "language_info": {
   "codemirror_mode": {
    "name": "ipython",
    "version": 2
   },
   "file_extension": ".py",
   "mimetype": "text/x-python",
   "name": "python",
   "nbconvert_exporter": "python",
   "pygments_lexer": "ipython2",
   "version": "2.7.6"
  }
 },
 "nbformat": 4,
 "nbformat_minor": 5
}
