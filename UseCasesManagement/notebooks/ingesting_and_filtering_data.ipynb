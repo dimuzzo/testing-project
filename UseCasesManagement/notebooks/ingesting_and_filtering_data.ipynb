{
 "cells": [
  {
   "metadata": {},
   "cell_type": "markdown",
   "source": [
    "# Ingesting and Filtering OSM Data to GeoParquet format\n",
    "\n",
    "This notebook automates the process of extracting specific features (buildings, restaurants, bus stops) for multiple cities (Pinerolo, Milan, Rome) from a large OpenStreetMap PBF file.\n",
    "\n",
    "It uses `quackosm` for efficient filtering and saves the output as optimized `.geoparquet` files, ready for the benchmark scripts.\n",
    "\n",
    "**Required libraries:** `quackosm`, `osmnx`, `pathlib`."
   ],
   "id": "e0d798eed58ae939"
  },
  {
   "cell_type": "code",
   "id": "2da6b7316b2321f0",
   "metadata": {
    "ExecuteTime": {
     "end_time": "2025-07-22T22:33:41.058777Z",
     "start_time": "2025-07-22T22:33:38.202082Z"
    }
   },
   "source": [
    "import os\n",
    "import urllib.request\n",
    "import quackosm\n",
    "import osmnx as ox\n",
    "from pathlib import Path"
   ],
   "outputs": [],
   "execution_count": 1
  },
  {
   "metadata": {
    "ExecuteTime": {
     "end_time": "2025-07-22T23:32:40.098385Z",
     "start_time": "2025-07-22T22:33:41.229883Z"
    }
   },
   "cell_type": "code",
   "source": [
    "# Define Paths and URLs\n",
    "# NOTE: PROJECT_ROOT is defined to display relative paths in the output, protecting user privacy.\n",
    "WORKING_ROOT = Path('.').resolve().parent\n",
    "PROJECT_ROOT = WORKING_ROOT.parent\n",
    "RAW_DATA_DIR = WORKING_ROOT / 'data' / 'raw'\n",
    "PROCESSED_DATA_DIR = WORKING_ROOT / 'data' / 'processed'\n",
    "\n",
    "# The PBF file will be downloaded from this URL\n",
    "PBF_URL = \"https://download.geofabrik.de/europe/italy-latest.osm.pbf\"\n",
    "PBF_FILENAME = PBF_URL.split('/')[-1]\n",
    "PBF_FILEPATH = RAW_DATA_DIR / PBF_FILENAME\n",
    "\n",
    "# Ensure the required directories exist\n",
    "RAW_DATA_DIR.mkdir(parents=True, exist_ok=True)\n",
    "PROCESSED_DATA_DIR.mkdir(parents=True, exist_ok=True)\n",
    "\n",
    "# Download the PBF file only if it's missing\n",
    "if not PBF_FILEPATH.exists():\n",
    "    print(f\"PBF file not found. Downloading from {PBF_URL}.\")\n",
    "    urllib.request.urlretrieve(PBF_URL, PBF_FILEPATH)\n",
    "    print(f\"Download complete. File saved to: {PBF_FILEPATH.relative_to(PROJECT_ROOT)}\")\n",
    "else:\n",
    "    print(f\"PBF file already found at: {PBF_FILEPATH.relative_to(PROJECT_ROOT)}. Skipping download.\")\n",
    "\n",
    "# A list of all datasets to be generated.\n",
    "# Each dictionary defines a single extraction operation for a city and feature type.\n",
    "extraction_tasks = [\n",
    "    # Pinerolo\n",
    "    {'city': 'Pinerolo, Italy', 'feature_type': 'buildings',   'tags': {'building': True}},\n",
    "    {'city': 'Pinerolo, Italy', 'feature_type': 'restaurants', 'tags': {'amenity': 'restaurant'}},\n",
    "    {'city': 'Pinerolo, Italy', 'feature_type': 'bus_stops',   'tags': {'highway': 'bus_stop'}},\n",
    "\n",
    "    # Milano\n",
    "    {'city': 'Milan, Italy',    'feature_type': 'buildings',   'tags': {'building': True}},\n",
    "    {'city': 'Milan, Italy',    'feature_type': 'restaurants', 'tags': {'amenity': 'restaurant'}},\n",
    "    {'city': 'Milan, Italy',    'feature_type': 'bus_stops',   'tags': {'highway': 'bus_stop'}},\n",
    "\n",
    "    # Roma\n",
    "    {'city': 'Rome, Italy',     'feature_type': 'buildings',   'tags': {'building': True}},\n",
    "    {'city': 'Rome, Italy',     'feature_type': 'restaurants', 'tags': {'amenity': 'restaurant'}},\n",
    "    {'city': 'Rome, Italy',     'feature_type': 'bus_stops',   'tags': {'highway': 'bus_stop'}},\n",
    "]\n",
    "\n",
    "print(\"\\nStarting data extraction process.\")\n",
    "tasks_completed = 0\n",
    "tasks_skipped = 0\n",
    "\n",
    "# Iterate over each task and generate the corresponding file\n",
    "for task in extraction_tasks:\n",
    "    city_name_query = task['city']\n",
    "    # Use a clean name for the output file (e.g., \"pinerolo\")\n",
    "    city_name_file = city_name_query.split(',')[0].lower()\n",
    "    feature_type = task['feature_type']\n",
    "    tags_filter = task['tags']\n",
    "\n",
    "    output_filename = f\"{city_name_file}_{feature_type}.geoparquet\"\n",
    "    output_filepath = PROCESSED_DATA_DIR / output_filename\n",
    "\n",
    "    print(f\"\\nStarting the extraction of '{feature_type}' for '{city_name_query}'.\")\n",
    "\n",
    "    # This check is crucial to avoid re-running lengthy extractions\n",
    "    if output_filepath.exists():\n",
    "        print(f\"Result file '{output_filename}' already exists. Skipping task.\")\n",
    "        tasks_skipped += 1\n",
    "        continue\n",
    "\n",
    "    try:\n",
    "        # Get the geographic boundary for the city\n",
    "        print(f\"Fetching boundary for {city_name_query}.\")\n",
    "        boundary_gdf = ox.geocode_to_gdf(city_name_query)\n",
    "        print(\"Boundary fetched successfully.\")\n",
    "\n",
    "        # Configure the PBF reader with geographic and tag filters\n",
    "        pbf_reader = quackosm.PbfFileReader(\n",
    "            geometry_filter=boundary_gdf.geometry.iloc[0],\n",
    "            tags_filter=tags_filter,\n",
    "        )\n",
    "\n",
    "        # Execute the conversion from PBF to GeoDataFrame\n",
    "        print(f\"Starting extraction from {PBF_FILENAME}.\")\n",
    "        features_gdf = pbf_reader.convert_pbf_to_geodataframe(PBF_FILEPATH)\n",
    "        print(f\"Extraction complete. Found {len(features_gdf)} features.\")\n",
    "\n",
    "        # Save the result to a GeoParquet file\n",
    "        print(f\"Saving data to {output_filename}.\")\n",
    "        features_gdf.to_parquet(output_filepath)\n",
    "        print(f\"Successfully saved file to {output_filepath.relative_to(PROJECT_ROOT)}.\")\n",
    "        tasks_completed += 1\n",
    "\n",
    "    except Exception as e:\n",
    "        print(f\"ERROR while processing task for {city_name_query}: {e}.\")\n",
    "\n",
    "print(\"\\nData preparation process finished.\")\n",
    "print(f\"Tasks completed successfully: {tasks_completed}\")\n",
    "print(f\"Tasks skipped (already done): {tasks_skipped}\")"
   ],
   "id": "initial_id",
   "outputs": [
    {
     "data": {
      "text/plain": [
       "Output()"
      ],
      "application/vnd.jupyter.widget-view+json": {
       "version_major": 2,
       "version_minor": 0,
       "model_id": "11909486a94b4c5b961f1ce15aa3a78b"
      }
     },
     "metadata": {},
     "output_type": "display_data"
    },
    {
     "name": "stdout",
     "output_type": "stream",
     "text": [
      "PBF file already found at: UseCasesManagement\\data\\raw\\italy-latest.osm.pbf. Skipping download.\n",
      "\n",
      "Starting data extraction process.\n",
      "\n",
      "Starting the extraction of 'buildings' for 'Pinerolo, Italy'.\n",
      "Fetching boundary for Pinerolo, Italy.\n",
      "Boundary fetched successfully.\n",
      "Starting extraction from italy-latest.osm.pbf.\n"
     ]
    },
    {
     "data": {
      "text/plain": [
       "Encountered MemoryError during operation. Retrying with lower number of rows per group \u001B[1m(\u001B[0m\u001B[1;36m100000\u001B[0m\u001B[1m)\u001B[0m.\n"
      ],
      "text/html": [
       "<pre style=\"white-space:pre;overflow-x:auto;line-height:normal;font-family:Menlo,'DejaVu Sans Mono',consolas,'Courier New',monospace\">Encountered MemoryError during operation. Retrying with lower number of rows per group <span style=\"font-weight: bold\">(</span><span style=\"color: #008080; text-decoration-color: #008080; font-weight: bold\">100000</span><span style=\"font-weight: bold\">)</span>.\n",
       "</pre>\n"
      ]
     },
     "metadata": {},
     "output_type": "display_data"
    },
    {
     "data": {
      "text/plain": [],
      "text/html": [
       "<pre style=\"white-space:pre;overflow-x:auto;line-height:normal;font-family:Menlo,'DejaVu Sans Mono',consolas,'Courier New',monospace\"></pre>\n"
      ]
     },
     "metadata": {},
     "output_type": "display_data"
    },
    {
     "data": {
      "text/plain": [
       "\n"
      ],
      "text/html": [
       "<pre style=\"white-space:pre;overflow-x:auto;line-height:normal;font-family:Menlo,'DejaVu Sans Mono',consolas,'Courier New',monospace\">\n",
       "</pre>\n"
      ]
     },
     "metadata": {},
     "output_type": "display_data"
    },
    {
     "data": {
      "text/plain": [
       "Finished operation in \u001B[1;33m0:03:59\u001B[0m\n"
      ],
      "text/html": [
       "<pre style=\"white-space:pre;overflow-x:auto;line-height:normal;font-family:Menlo,'DejaVu Sans Mono',consolas,'Courier New',monospace\">Finished operation in <span style=\"color: #808000; text-decoration-color: #808000; font-weight: bold\">0:03:59</span>\n",
       "</pre>\n"
      ]
     },
     "metadata": {},
     "output_type": "display_data"
    },
    {
     "data": {
      "text/plain": [
       "Output()"
      ],
      "application/vnd.jupyter.widget-view+json": {
       "version_major": 2,
       "version_minor": 0,
       "model_id": "909526a4d2744a1b98e6176326356dfd"
      }
     },
     "metadata": {},
     "output_type": "display_data"
    },
    {
     "name": "stdout",
     "output_type": "stream",
     "text": [
      "Extraction complete. Found 4499 features.\n",
      "Saving data to pinerolo_buildings.geoparquet.\n",
      "Successfully saved file to UseCasesManagement\\data\\processed\\pinerolo_buildings.geoparquet.\n",
      "\n",
      "Starting the extraction of 'restaurants' for 'Pinerolo, Italy'.\n",
      "Fetching boundary for Pinerolo, Italy.\n",
      "Boundary fetched successfully.\n",
      "Starting extraction from italy-latest.osm.pbf.\n"
     ]
    },
    {
     "data": {
      "text/plain": [],
      "text/html": [
       "<pre style=\"white-space:pre;overflow-x:auto;line-height:normal;font-family:Menlo,'DejaVu Sans Mono',consolas,'Courier New',monospace\"></pre>\n"
      ]
     },
     "metadata": {},
     "output_type": "display_data"
    },
    {
     "data": {
      "text/plain": [
       "\n"
      ],
      "text/html": [
       "<pre style=\"white-space:pre;overflow-x:auto;line-height:normal;font-family:Menlo,'DejaVu Sans Mono',consolas,'Courier New',monospace\">\n",
       "</pre>\n"
      ]
     },
     "metadata": {},
     "output_type": "display_data"
    },
    {
     "data": {
      "text/plain": [
       "Finished operation in \u001B[1;33m0:05:44\u001B[0m\n"
      ],
      "text/html": [
       "<pre style=\"white-space:pre;overflow-x:auto;line-height:normal;font-family:Menlo,'DejaVu Sans Mono',consolas,'Courier New',monospace\">Finished operation in <span style=\"color: #808000; text-decoration-color: #808000; font-weight: bold\">0:05:44</span>\n",
       "</pre>\n"
      ]
     },
     "metadata": {},
     "output_type": "display_data"
    },
    {
     "data": {
      "text/plain": [
       "Output()"
      ],
      "application/vnd.jupyter.widget-view+json": {
       "version_major": 2,
       "version_minor": 0,
       "model_id": "fe1e83b4924a461c9361911749839f9d"
      }
     },
     "metadata": {},
     "output_type": "display_data"
    },
    {
     "name": "stdout",
     "output_type": "stream",
     "text": [
      "Extraction complete. Found 17 features.\n",
      "Saving data to pinerolo_restaurants.geoparquet.\n",
      "Successfully saved file to UseCasesManagement\\data\\processed\\pinerolo_restaurants.geoparquet.\n",
      "\n",
      "Starting the extraction of 'bus_stops' for 'Pinerolo, Italy'.\n",
      "Fetching boundary for Pinerolo, Italy.\n",
      "Boundary fetched successfully.\n",
      "Starting extraction from italy-latest.osm.pbf.\n"
     ]
    },
    {
     "data": {
      "text/plain": [],
      "text/html": [
       "<pre style=\"white-space:pre;overflow-x:auto;line-height:normal;font-family:Menlo,'DejaVu Sans Mono',consolas,'Courier New',monospace\"></pre>\n"
      ]
     },
     "metadata": {},
     "output_type": "display_data"
    },
    {
     "data": {
      "text/plain": [
       "\n"
      ],
      "text/html": [
       "<pre style=\"white-space:pre;overflow-x:auto;line-height:normal;font-family:Menlo,'DejaVu Sans Mono',consolas,'Courier New',monospace\">\n",
       "</pre>\n"
      ]
     },
     "metadata": {},
     "output_type": "display_data"
    },
    {
     "data": {
      "text/plain": [
       "Finished operation in \u001B[1;33m0:05:44\u001B[0m\n"
      ],
      "text/html": [
       "<pre style=\"white-space:pre;overflow-x:auto;line-height:normal;font-family:Menlo,'DejaVu Sans Mono',consolas,'Courier New',monospace\">Finished operation in <span style=\"color: #808000; text-decoration-color: #808000; font-weight: bold\">0:05:44</span>\n",
       "</pre>\n"
      ]
     },
     "metadata": {},
     "output_type": "display_data"
    },
    {
     "name": "stdout",
     "output_type": "stream",
     "text": [
      "Extraction complete. Found 21 features.\n",
      "Saving data to pinerolo_bus_stops.geoparquet.\n",
      "Successfully saved file to UseCasesManagement\\data\\processed\\pinerolo_bus_stops.geoparquet.\n",
      "\n",
      "Starting the extraction of 'buildings' for 'Milan, Italy'.\n",
      "Fetching boundary for Milan, Italy.\n",
      "Boundary fetched successfully.\n",
      "Starting extraction from italy-latest.osm.pbf.\n"
     ]
    },
    {
     "data": {
      "text/plain": [
       "\n"
      ],
      "text/html": [
       "<pre style=\"white-space:pre;overflow-x:auto;line-height:normal;font-family:Menlo,'DejaVu Sans Mono',consolas,'Courier New',monospace\">\n",
       "</pre>\n"
      ]
     },
     "metadata": {},
     "output_type": "display_data"
    },
    {
     "name": "stdout",
     "output_type": "stream",
     "text": [
      "Extraction complete. Found 62133 features.\n",
      "Saving data to milan_buildings.geoparquet.\n"
     ]
    },
    {
     "data": {
      "text/plain": [
       "Output()"
      ],
      "application/vnd.jupyter.widget-view+json": {
       "version_major": 2,
       "version_minor": 0,
       "model_id": "66a84b456a0b43d2b2f186af155d0d75"
      }
     },
     "metadata": {},
     "output_type": "display_data"
    },
    {
     "name": "stdout",
     "output_type": "stream",
     "text": [
      "Successfully saved file to UseCasesManagement\\data\\processed\\milan_buildings.geoparquet.\n",
      "\n",
      "Starting the extraction of 'restaurants' for 'Milan, Italy'.\n",
      "Fetching boundary for Milan, Italy.\n",
      "Boundary fetched successfully.\n",
      "Starting extraction from italy-latest.osm.pbf.\n"
     ]
    },
    {
     "data": {
      "text/plain": [],
      "text/html": [
       "<pre style=\"white-space:pre;overflow-x:auto;line-height:normal;font-family:Menlo,'DejaVu Sans Mono',consolas,'Courier New',monospace\"></pre>\n"
      ]
     },
     "metadata": {},
     "output_type": "display_data"
    },
    {
     "data": {
      "text/plain": [
       "\n"
      ],
      "text/html": [
       "<pre style=\"white-space:pre;overflow-x:auto;line-height:normal;font-family:Menlo,'DejaVu Sans Mono',consolas,'Courier New',monospace\">\n",
       "</pre>\n"
      ]
     },
     "metadata": {},
     "output_type": "display_data"
    },
    {
     "data": {
      "text/plain": [
       "Finished operation in \u001B[1;33m0:06:25\u001B[0m\n"
      ],
      "text/html": [
       "<pre style=\"white-space:pre;overflow-x:auto;line-height:normal;font-family:Menlo,'DejaVu Sans Mono',consolas,'Courier New',monospace\">Finished operation in <span style=\"color: #808000; text-decoration-color: #808000; font-weight: bold\">0:06:25</span>\n",
       "</pre>\n"
      ]
     },
     "metadata": {},
     "output_type": "display_data"
    },
    {
     "data": {
      "text/plain": [
       "Output()"
      ],
      "application/vnd.jupyter.widget-view+json": {
       "version_major": 2,
       "version_minor": 0,
       "model_id": "871c1ce23fbd4af6b0a7f10bd4f16fed"
      }
     },
     "metadata": {},
     "output_type": "display_data"
    },
    {
     "name": "stdout",
     "output_type": "stream",
     "text": [
      "Extraction complete. Found 2672 features.\n",
      "Saving data to milan_restaurants.geoparquet.\n",
      "Successfully saved file to UseCasesManagement\\data\\processed\\milan_restaurants.geoparquet.\n",
      "\n",
      "Starting the extraction of 'bus_stops' for 'Milan, Italy'.\n",
      "Fetching boundary for Milan, Italy.\n",
      "Boundary fetched successfully.\n",
      "Starting extraction from italy-latest.osm.pbf.\n"
     ]
    },
    {
     "data": {
      "text/plain": [],
      "text/html": [
       "<pre style=\"white-space:pre;overflow-x:auto;line-height:normal;font-family:Menlo,'DejaVu Sans Mono',consolas,'Courier New',monospace\"></pre>\n"
      ]
     },
     "metadata": {},
     "output_type": "display_data"
    },
    {
     "data": {
      "text/plain": [
       "\n"
      ],
      "text/html": [
       "<pre style=\"white-space:pre;overflow-x:auto;line-height:normal;font-family:Menlo,'DejaVu Sans Mono',consolas,'Courier New',monospace\">\n",
       "</pre>\n"
      ]
     },
     "metadata": {},
     "output_type": "display_data"
    },
    {
     "data": {
      "text/plain": [
       "Finished operation in \u001B[1;33m0:07:41\u001B[0m\n"
      ],
      "text/html": [
       "<pre style=\"white-space:pre;overflow-x:auto;line-height:normal;font-family:Menlo,'DejaVu Sans Mono',consolas,'Courier New',monospace\">Finished operation in <span style=\"color: #808000; text-decoration-color: #808000; font-weight: bold\">0:07:41</span>\n",
       "</pre>\n"
      ]
     },
     "metadata": {},
     "output_type": "display_data"
    },
    {
     "name": "stdout",
     "output_type": "stream",
     "text": [
      "Extraction complete. Found 2809 features.\n",
      "Saving data to milan_bus_stops.geoparquet.\n",
      "Successfully saved file to UseCasesManagement\\data\\processed\\milan_bus_stops.geoparquet.\n",
      "\n",
      "Starting the extraction of 'buildings' for 'Rome, Italy'.\n",
      "Fetching boundary for Rome, Italy.\n",
      "Boundary fetched successfully.\n",
      "Starting extraction from italy-latest.osm.pbf.\n"
     ]
    },
    {
     "data": {
      "text/plain": [
       "Output()"
      ],
      "application/vnd.jupyter.widget-view+json": {
       "version_major": 2,
       "version_minor": 0,
       "model_id": "cb525c2df7a84259b0b37b6167e6da80"
      }
     },
     "metadata": {},
     "output_type": "display_data"
    },
    {
     "data": {
      "text/plain": [
       "Encountered MemoryError during operation. Retrying with lower number of rows per group \u001B[1m(\u001B[0m\u001B[1;36m100000\u001B[0m\u001B[1m)\u001B[0m.\n"
      ],
      "text/html": [
       "<pre style=\"white-space:pre;overflow-x:auto;line-height:normal;font-family:Menlo,'DejaVu Sans Mono',consolas,'Courier New',monospace\">Encountered MemoryError during operation. Retrying with lower number of rows per group <span style=\"font-weight: bold\">(</span><span style=\"color: #008080; text-decoration-color: #008080; font-weight: bold\">100000</span><span style=\"font-weight: bold\">)</span>.\n",
       "</pre>\n"
      ]
     },
     "metadata": {},
     "output_type": "display_data"
    },
    {
     "data": {
      "text/plain": [],
      "text/html": [
       "<pre style=\"white-space:pre;overflow-x:auto;line-height:normal;font-family:Menlo,'DejaVu Sans Mono',consolas,'Courier New',monospace\"></pre>\n"
      ]
     },
     "metadata": {},
     "output_type": "display_data"
    },
    {
     "data": {
      "text/plain": [
       "\n"
      ],
      "text/html": [
       "<pre style=\"white-space:pre;overflow-x:auto;line-height:normal;font-family:Menlo,'DejaVu Sans Mono',consolas,'Courier New',monospace\">\n",
       "</pre>\n"
      ]
     },
     "metadata": {},
     "output_type": "display_data"
    },
    {
     "data": {
      "text/plain": [
       "Finished operation in \u001B[1;33m0:10:14\u001B[0m\n"
      ],
      "text/html": [
       "<pre style=\"white-space:pre;overflow-x:auto;line-height:normal;font-family:Menlo,'DejaVu Sans Mono',consolas,'Courier New',monospace\">Finished operation in <span style=\"color: #808000; text-decoration-color: #808000; font-weight: bold\">0:10:14</span>\n",
       "</pre>\n"
      ]
     },
     "metadata": {},
     "output_type": "display_data"
    },
    {
     "name": "stdout",
     "output_type": "stream",
     "text": [
      "Extraction complete. Found 200942 features.\n",
      "Saving data to rome_buildings.geoparquet.\n"
     ]
    },
    {
     "data": {
      "text/plain": [
       "Output()"
      ],
      "application/vnd.jupyter.widget-view+json": {
       "version_major": 2,
       "version_minor": 0,
       "model_id": "bfa084092fbb4488965111b8611e733f"
      }
     },
     "metadata": {},
     "output_type": "display_data"
    },
    {
     "name": "stdout",
     "output_type": "stream",
     "text": [
      "Successfully saved file to UseCasesManagement\\data\\processed\\rome_buildings.geoparquet.\n",
      "\n",
      "Starting the extraction of 'restaurants' for 'Rome, Italy'.\n",
      "Fetching boundary for Rome, Italy.\n",
      "Boundary fetched successfully.\n",
      "Starting extraction from italy-latest.osm.pbf.\n"
     ]
    },
    {
     "data": {
      "text/plain": [
       "Encountered MemoryError during operation. Retrying with lower number of rows per group \u001B[1m(\u001B[0m\u001B[1;36m100000\u001B[0m\u001B[1m)\u001B[0m.\n"
      ],
      "text/html": [
       "<pre style=\"white-space:pre;overflow-x:auto;line-height:normal;font-family:Menlo,'DejaVu Sans Mono',consolas,'Courier New',monospace\">Encountered MemoryError during operation. Retrying with lower number of rows per group <span style=\"font-weight: bold\">(</span><span style=\"color: #008080; text-decoration-color: #008080; font-weight: bold\">100000</span><span style=\"font-weight: bold\">)</span>.\n",
       "</pre>\n"
      ]
     },
     "metadata": {},
     "output_type": "display_data"
    },
    {
     "data": {
      "text/plain": [],
      "text/html": [
       "<pre style=\"white-space:pre;overflow-x:auto;line-height:normal;font-family:Menlo,'DejaVu Sans Mono',consolas,'Courier New',monospace\"></pre>\n"
      ]
     },
     "metadata": {},
     "output_type": "display_data"
    },
    {
     "data": {
      "text/plain": [
       "\n"
      ],
      "text/html": [
       "<pre style=\"white-space:pre;overflow-x:auto;line-height:normal;font-family:Menlo,'DejaVu Sans Mono',consolas,'Courier New',monospace\">\n",
       "</pre>\n"
      ]
     },
     "metadata": {},
     "output_type": "display_data"
    },
    {
     "data": {
      "text/plain": [
       "Finished operation in \u001B[1;33m0:09:42\u001B[0m\n"
      ],
      "text/html": [
       "<pre style=\"white-space:pre;overflow-x:auto;line-height:normal;font-family:Menlo,'DejaVu Sans Mono',consolas,'Courier New',monospace\">Finished operation in <span style=\"color: #808000; text-decoration-color: #808000; font-weight: bold\">0:09:42</span>\n",
       "</pre>\n"
      ]
     },
     "metadata": {},
     "output_type": "display_data"
    },
    {
     "name": "stdout",
     "output_type": "stream",
     "text": [
      "Extraction complete. Found 3069 features.\n",
      "Saving data to rome_restaurants.geoparquet.\n",
      "Successfully saved file to UseCasesManagement\\data\\processed\\rome_restaurants.geoparquet.\n",
      "\n",
      "Starting the extraction of 'bus_stops' for 'Rome, Italy'.\n",
      "Fetching boundary for Rome, Italy.\n",
      "Boundary fetched successfully.\n",
      "Starting extraction from italy-latest.osm.pbf.\n"
     ]
    },
    {
     "data": {
      "text/plain": [
       "Output()"
      ],
      "application/vnd.jupyter.widget-view+json": {
       "version_major": 2,
       "version_minor": 0,
       "model_id": "60b066545a904c1faf7f6ba45dcbac39"
      }
     },
     "metadata": {},
     "output_type": "display_data"
    },
    {
     "data": {
      "text/plain": [
       "Encountered MemoryError during operation. Retrying with lower number of rows per group \u001B[1m(\u001B[0m\u001B[1;36m100000\u001B[0m\u001B[1m)\u001B[0m.\n"
      ],
      "text/html": [
       "<pre style=\"white-space:pre;overflow-x:auto;line-height:normal;font-family:Menlo,'DejaVu Sans Mono',consolas,'Courier New',monospace\">Encountered MemoryError during operation. Retrying with lower number of rows per group <span style=\"font-weight: bold\">(</span><span style=\"color: #008080; text-decoration-color: #008080; font-weight: bold\">100000</span><span style=\"font-weight: bold\">)</span>.\n",
       "</pre>\n"
      ]
     },
     "metadata": {},
     "output_type": "display_data"
    },
    {
     "data": {
      "text/plain": [],
      "text/html": [
       "<pre style=\"white-space:pre;overflow-x:auto;line-height:normal;font-family:Menlo,'DejaVu Sans Mono',consolas,'Courier New',monospace\"></pre>\n"
      ]
     },
     "metadata": {},
     "output_type": "display_data"
    },
    {
     "data": {
      "text/plain": [
       "\n"
      ],
      "text/html": [
       "<pre style=\"white-space:pre;overflow-x:auto;line-height:normal;font-family:Menlo,'DejaVu Sans Mono',consolas,'Courier New',monospace\">\n",
       "</pre>\n"
      ]
     },
     "metadata": {},
     "output_type": "display_data"
    },
    {
     "data": {
      "text/plain": [
       "Finished operation in \u001B[1;33m0:09:22\u001B[0m\n"
      ],
      "text/html": [
       "<pre style=\"white-space:pre;overflow-x:auto;line-height:normal;font-family:Menlo,'DejaVu Sans Mono',consolas,'Courier New',monospace\">Finished operation in <span style=\"color: #808000; text-decoration-color: #808000; font-weight: bold\">0:09:22</span>\n",
       "</pre>\n"
      ]
     },
     "metadata": {},
     "output_type": "display_data"
    },
    {
     "name": "stdout",
     "output_type": "stream",
     "text": [
      "Extraction complete. Found 8448 features.\n",
      "Saving data to rome_bus_stops.geoparquet.\n",
      "Successfully saved file to UseCasesManagement\\data\\processed\\rome_bus_stops.geoparquet.\n",
      "Data preparation process finished.\n",
      "Tasks completed successfully: 9\n",
      "Tasks skipped (already done): 0\n"
     ]
    }
   ],
   "execution_count": 2
  }
 ],
 "metadata": {
  "kernelspec": {
   "display_name": "Python 3",
   "language": "python",
   "name": "python3"
  },
  "language_info": {
   "codemirror_mode": {
    "name": "ipython",
    "version": 2
   },
   "file_extension": ".py",
   "mimetype": "text/x-python",
   "name": "python",
   "nbconvert_exporter": "python",
   "pygments_lexer": "ipython2",
   "version": "2.7.6"
  }
 },
 "nbformat": 4,
 "nbformat_minor": 5
}
